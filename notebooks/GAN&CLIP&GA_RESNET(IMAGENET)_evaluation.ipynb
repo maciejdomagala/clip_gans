{
  "nbformat": 4,
  "nbformat_minor": 0,
  "metadata": {
    "colab": {
      "name": "GAN&CLIP&GA_RESNET(IMAGENET)_evaluation.ipynb",
      "provenance": [],
      "collapsed_sections": [],
      "toc_visible": true
    },
    "kernelspec": {
      "name": "python3",
      "display_name": "Python 3"
    },
    "language_info": {
      "name": "python"
    },
    "accelerator": "GPU",
    "widgets": {
      "application/vnd.jupyter.widget-state+json": {
        "dd0c59ba6d20448f943e8b3ad13ab6eb": {
          "model_module": "@jupyter-widgets/controls",
          "model_name": "HBoxModel",
          "state": {
            "_view_name": "HBoxView",
            "_dom_classes": [],
            "_model_name": "HBoxModel",
            "_view_module": "@jupyter-widgets/controls",
            "_model_module_version": "1.5.0",
            "_view_count": null,
            "_view_module_version": "1.5.0",
            "box_style": "",
            "layout": "IPY_MODEL_61f49a63cb564009908ee799640b6e86",
            "_model_module": "@jupyter-widgets/controls",
            "children": [
              "IPY_MODEL_33a75502ace64bf99fe6fe71bf1064b0",
              "IPY_MODEL_6ebb2b24f2a9496b907534719534a901"
            ]
          }
        },
        "61f49a63cb564009908ee799640b6e86": {
          "model_module": "@jupyter-widgets/base",
          "model_name": "LayoutModel",
          "state": {
            "_view_name": "LayoutView",
            "grid_template_rows": null,
            "right": null,
            "justify_content": null,
            "_view_module": "@jupyter-widgets/base",
            "overflow": null,
            "_model_module_version": "1.2.0",
            "_view_count": null,
            "flex_flow": null,
            "width": null,
            "min_width": null,
            "border": null,
            "align_items": null,
            "bottom": null,
            "_model_module": "@jupyter-widgets/base",
            "top": null,
            "grid_column": null,
            "overflow_y": null,
            "overflow_x": null,
            "grid_auto_flow": null,
            "grid_area": null,
            "grid_template_columns": null,
            "flex": null,
            "_model_name": "LayoutModel",
            "justify_items": null,
            "grid_row": null,
            "max_height": null,
            "align_content": null,
            "visibility": null,
            "align_self": null,
            "height": null,
            "min_height": null,
            "padding": null,
            "grid_auto_rows": null,
            "grid_gap": null,
            "max_width": null,
            "order": null,
            "_view_module_version": "1.2.0",
            "grid_template_areas": null,
            "object_position": null,
            "object_fit": null,
            "grid_auto_columns": null,
            "margin": null,
            "display": null,
            "left": null
          }
        },
        "33a75502ace64bf99fe6fe71bf1064b0": {
          "model_module": "@jupyter-widgets/controls",
          "model_name": "FloatProgressModel",
          "state": {
            "_view_name": "ProgressView",
            "style": "IPY_MODEL_0f84aef947cb4929ad4b9d29f87df078",
            "_dom_classes": [],
            "description": "100%",
            "_model_name": "FloatProgressModel",
            "bar_style": "success",
            "max": 1,
            "_view_module": "@jupyter-widgets/controls",
            "_model_module_version": "1.5.0",
            "value": 1,
            "_view_count": null,
            "_view_module_version": "1.5.0",
            "orientation": "horizontal",
            "min": 0,
            "description_tooltip": null,
            "_model_module": "@jupyter-widgets/controls",
            "layout": "IPY_MODEL_30e1cec905ad498f82d9bed818189ef4"
          }
        },
        "6ebb2b24f2a9496b907534719534a901": {
          "model_module": "@jupyter-widgets/controls",
          "model_name": "HTMLModel",
          "state": {
            "_view_name": "HTMLView",
            "style": "IPY_MODEL_b414b231a01e4cfea9a954e897d1aa7f",
            "_dom_classes": [],
            "description": "",
            "_model_name": "HTMLModel",
            "placeholder": "​",
            "_view_module": "@jupyter-widgets/controls",
            "_model_module_version": "1.5.0",
            "value": " 1/1 [03:12&lt;00:00, 192.14s/it]",
            "_view_count": null,
            "_view_module_version": "1.5.0",
            "description_tooltip": null,
            "_model_module": "@jupyter-widgets/controls",
            "layout": "IPY_MODEL_d59a7f5c031c4c38a35ad4791300dd51"
          }
        },
        "0f84aef947cb4929ad4b9d29f87df078": {
          "model_module": "@jupyter-widgets/controls",
          "model_name": "ProgressStyleModel",
          "state": {
            "_view_name": "StyleView",
            "_model_name": "ProgressStyleModel",
            "description_width": "initial",
            "_view_module": "@jupyter-widgets/base",
            "_model_module_version": "1.5.0",
            "_view_count": null,
            "_view_module_version": "1.2.0",
            "bar_color": null,
            "_model_module": "@jupyter-widgets/controls"
          }
        },
        "30e1cec905ad498f82d9bed818189ef4": {
          "model_module": "@jupyter-widgets/base",
          "model_name": "LayoutModel",
          "state": {
            "_view_name": "LayoutView",
            "grid_template_rows": null,
            "right": null,
            "justify_content": null,
            "_view_module": "@jupyter-widgets/base",
            "overflow": null,
            "_model_module_version": "1.2.0",
            "_view_count": null,
            "flex_flow": null,
            "width": null,
            "min_width": null,
            "border": null,
            "align_items": null,
            "bottom": null,
            "_model_module": "@jupyter-widgets/base",
            "top": null,
            "grid_column": null,
            "overflow_y": null,
            "overflow_x": null,
            "grid_auto_flow": null,
            "grid_area": null,
            "grid_template_columns": null,
            "flex": null,
            "_model_name": "LayoutModel",
            "justify_items": null,
            "grid_row": null,
            "max_height": null,
            "align_content": null,
            "visibility": null,
            "align_self": null,
            "height": null,
            "min_height": null,
            "padding": null,
            "grid_auto_rows": null,
            "grid_gap": null,
            "max_width": null,
            "order": null,
            "_view_module_version": "1.2.0",
            "grid_template_areas": null,
            "object_position": null,
            "object_fit": null,
            "grid_auto_columns": null,
            "margin": null,
            "display": null,
            "left": null
          }
        },
        "b414b231a01e4cfea9a954e897d1aa7f": {
          "model_module": "@jupyter-widgets/controls",
          "model_name": "DescriptionStyleModel",
          "state": {
            "_view_name": "StyleView",
            "_model_name": "DescriptionStyleModel",
            "description_width": "",
            "_view_module": "@jupyter-widgets/base",
            "_model_module_version": "1.5.0",
            "_view_count": null,
            "_view_module_version": "1.2.0",
            "_model_module": "@jupyter-widgets/controls"
          }
        },
        "d59a7f5c031c4c38a35ad4791300dd51": {
          "model_module": "@jupyter-widgets/base",
          "model_name": "LayoutModel",
          "state": {
            "_view_name": "LayoutView",
            "grid_template_rows": null,
            "right": null,
            "justify_content": null,
            "_view_module": "@jupyter-widgets/base",
            "overflow": null,
            "_model_module_version": "1.2.0",
            "_view_count": null,
            "flex_flow": null,
            "width": null,
            "min_width": null,
            "border": null,
            "align_items": null,
            "bottom": null,
            "_model_module": "@jupyter-widgets/base",
            "top": null,
            "grid_column": null,
            "overflow_y": null,
            "overflow_x": null,
            "grid_auto_flow": null,
            "grid_area": null,
            "grid_template_columns": null,
            "flex": null,
            "_model_name": "LayoutModel",
            "justify_items": null,
            "grid_row": null,
            "max_height": null,
            "align_content": null,
            "visibility": null,
            "align_self": null,
            "height": null,
            "min_height": null,
            "padding": null,
            "grid_auto_rows": null,
            "grid_gap": null,
            "max_width": null,
            "order": null,
            "_view_module_version": "1.2.0",
            "grid_template_areas": null,
            "object_position": null,
            "object_fit": null,
            "grid_auto_columns": null,
            "margin": null,
            "display": null,
            "left": null
          }
        },
        "fd557ccd3ff34589ae6ba4298970302e": {
          "model_module": "@jupyter-widgets/controls",
          "model_name": "HBoxModel",
          "state": {
            "_view_name": "HBoxView",
            "_dom_classes": [],
            "_model_name": "HBoxModel",
            "_view_module": "@jupyter-widgets/controls",
            "_model_module_version": "1.5.0",
            "_view_count": null,
            "_view_module_version": "1.5.0",
            "box_style": "",
            "layout": "IPY_MODEL_1177fa237dda4f78bdaf4afb0b7cbc3b",
            "_model_module": "@jupyter-widgets/controls",
            "children": [
              "IPY_MODEL_457d23b7a95b42ebaa56f7949731b81e",
              "IPY_MODEL_648302e8298043bea4e99a5edaab15e4"
            ]
          }
        },
        "1177fa237dda4f78bdaf4afb0b7cbc3b": {
          "model_module": "@jupyter-widgets/base",
          "model_name": "LayoutModel",
          "state": {
            "_view_name": "LayoutView",
            "grid_template_rows": null,
            "right": null,
            "justify_content": null,
            "_view_module": "@jupyter-widgets/base",
            "overflow": null,
            "_model_module_version": "1.2.0",
            "_view_count": null,
            "flex_flow": null,
            "width": null,
            "min_width": null,
            "border": null,
            "align_items": null,
            "bottom": null,
            "_model_module": "@jupyter-widgets/base",
            "top": null,
            "grid_column": null,
            "overflow_y": null,
            "overflow_x": null,
            "grid_auto_flow": null,
            "grid_area": null,
            "grid_template_columns": null,
            "flex": null,
            "_model_name": "LayoutModel",
            "justify_items": null,
            "grid_row": null,
            "max_height": null,
            "align_content": null,
            "visibility": null,
            "align_self": null,
            "height": null,
            "min_height": null,
            "padding": null,
            "grid_auto_rows": null,
            "grid_gap": null,
            "max_width": null,
            "order": null,
            "_view_module_version": "1.2.0",
            "grid_template_areas": null,
            "object_position": null,
            "object_fit": null,
            "grid_auto_columns": null,
            "margin": null,
            "display": null,
            "left": null
          }
        },
        "457d23b7a95b42ebaa56f7949731b81e": {
          "model_module": "@jupyter-widgets/controls",
          "model_name": "FloatProgressModel",
          "state": {
            "_view_name": "ProgressView",
            "style": "IPY_MODEL_e7c65bebd9e24d3196e92b984dfe0e38",
            "_dom_classes": [],
            "description": "100%",
            "_model_name": "FloatProgressModel",
            "bar_style": "success",
            "max": 81,
            "_view_module": "@jupyter-widgets/controls",
            "_model_module_version": "1.5.0",
            "value": 81,
            "_view_count": null,
            "_view_module_version": "1.5.0",
            "orientation": "horizontal",
            "min": 0,
            "description_tooltip": null,
            "_model_module": "@jupyter-widgets/controls",
            "layout": "IPY_MODEL_aff384db18604c1aa27638c1dd05b790"
          }
        },
        "648302e8298043bea4e99a5edaab15e4": {
          "model_module": "@jupyter-widgets/controls",
          "model_name": "HTMLModel",
          "state": {
            "_view_name": "HTMLView",
            "style": "IPY_MODEL_248e6d381b954636ae7cb1c5bdd85755",
            "_dom_classes": [],
            "description": "",
            "_model_name": "HTMLModel",
            "placeholder": "​",
            "_view_module": "@jupyter-widgets/controls",
            "_model_module_version": "1.5.0",
            "value": " 81/81 [00:02&lt;00:00, 38.01it/s]",
            "_view_count": null,
            "_view_module_version": "1.5.0",
            "description_tooltip": null,
            "_model_module": "@jupyter-widgets/controls",
            "layout": "IPY_MODEL_611043c8d46449ac8d86d11091e633ed"
          }
        },
        "e7c65bebd9e24d3196e92b984dfe0e38": {
          "model_module": "@jupyter-widgets/controls",
          "model_name": "ProgressStyleModel",
          "state": {
            "_view_name": "StyleView",
            "_model_name": "ProgressStyleModel",
            "description_width": "initial",
            "_view_module": "@jupyter-widgets/base",
            "_model_module_version": "1.5.0",
            "_view_count": null,
            "_view_module_version": "1.2.0",
            "bar_color": null,
            "_model_module": "@jupyter-widgets/controls"
          }
        },
        "aff384db18604c1aa27638c1dd05b790": {
          "model_module": "@jupyter-widgets/base",
          "model_name": "LayoutModel",
          "state": {
            "_view_name": "LayoutView",
            "grid_template_rows": null,
            "right": null,
            "justify_content": null,
            "_view_module": "@jupyter-widgets/base",
            "overflow": null,
            "_model_module_version": "1.2.0",
            "_view_count": null,
            "flex_flow": null,
            "width": null,
            "min_width": null,
            "border": null,
            "align_items": null,
            "bottom": null,
            "_model_module": "@jupyter-widgets/base",
            "top": null,
            "grid_column": null,
            "overflow_y": null,
            "overflow_x": null,
            "grid_auto_flow": null,
            "grid_area": null,
            "grid_template_columns": null,
            "flex": null,
            "_model_name": "LayoutModel",
            "justify_items": null,
            "grid_row": null,
            "max_height": null,
            "align_content": null,
            "visibility": null,
            "align_self": null,
            "height": null,
            "min_height": null,
            "padding": null,
            "grid_auto_rows": null,
            "grid_gap": null,
            "max_width": null,
            "order": null,
            "_view_module_version": "1.2.0",
            "grid_template_areas": null,
            "object_position": null,
            "object_fit": null,
            "grid_auto_columns": null,
            "margin": null,
            "display": null,
            "left": null
          }
        },
        "248e6d381b954636ae7cb1c5bdd85755": {
          "model_module": "@jupyter-widgets/controls",
          "model_name": "DescriptionStyleModel",
          "state": {
            "_view_name": "StyleView",
            "_model_name": "DescriptionStyleModel",
            "description_width": "",
            "_view_module": "@jupyter-widgets/base",
            "_model_module_version": "1.5.0",
            "_view_count": null,
            "_view_module_version": "1.2.0",
            "_model_module": "@jupyter-widgets/controls"
          }
        },
        "611043c8d46449ac8d86d11091e633ed": {
          "model_module": "@jupyter-widgets/base",
          "model_name": "LayoutModel",
          "state": {
            "_view_name": "LayoutView",
            "grid_template_rows": null,
            "right": null,
            "justify_content": null,
            "_view_module": "@jupyter-widgets/base",
            "overflow": null,
            "_model_module_version": "1.2.0",
            "_view_count": null,
            "flex_flow": null,
            "width": null,
            "min_width": null,
            "border": null,
            "align_items": null,
            "bottom": null,
            "_model_module": "@jupyter-widgets/base",
            "top": null,
            "grid_column": null,
            "overflow_y": null,
            "overflow_x": null,
            "grid_auto_flow": null,
            "grid_area": null,
            "grid_template_columns": null,
            "flex": null,
            "_model_name": "LayoutModel",
            "justify_items": null,
            "grid_row": null,
            "max_height": null,
            "align_content": null,
            "visibility": null,
            "align_self": null,
            "height": null,
            "min_height": null,
            "padding": null,
            "grid_auto_rows": null,
            "grid_gap": null,
            "max_width": null,
            "order": null,
            "_view_module_version": "1.2.0",
            "grid_template_areas": null,
            "object_position": null,
            "object_fit": null,
            "grid_auto_columns": null,
            "margin": null,
            "display": null,
            "left": null
          }
        }
      }
    }
  },
  "cells": [
    {
      "cell_type": "markdown",
      "metadata": {
        "id": "nO8y7Rnaui2x"
      },
      "source": [
        "##GAN&CLIP&GA - RESNET (IMAGENET) EVALUATION\n",
        "\n",
        "Authors: Maciej Domagała, Adam Komorowski"
      ]
    },
    {
      "cell_type": "markdown",
      "metadata": {
        "id": "urUX0hTv51l5"
      },
      "source": [
        "### GENERATING IMAGES"
      ]
    },
    {
      "cell_type": "code",
      "metadata": {
        "id": "17hsaaHmiNvp",
        "cellView": "form"
      },
      "source": [
        "#@title Initialization (Installation, Imports) - check github branch!\n",
        "%%capture\n",
        "import subprocess\n",
        "import re\n",
        "\n",
        "nvcc = subprocess.check_output([\"nvcc\", \"--version\"]).decode(\"utf-8\")\n",
        "version = re.findall(\"release (\\d+\\.\\d+)\", nvcc)[0]\n",
        "\n",
        "pytorch_suffix = {\n",
        "    \"10.0\": \"+cu100\",\n",
        "    \"10.1\": \"+cu101\",\n",
        "    \"10.2\": \"\",\n",
        "}\n",
        "\n",
        "pytorch_version = \"1.7.1\" + (pytorch_suffix[version] if version in pytorch_suffix else \"+cu110\")\n",
        "torchvision_version = \"0.8.2\" + (pytorch_suffix[version] if version in pytorch_suffix else \"+cu110\")\n",
        "\n",
        "!wget https://raw.githubusercontent.com/pytorch/hub/master/imagenet_classes.txt #imagenet_classes\n",
        "\n",
        "!git clone https://github.com/maciejdomagala/clip_gans.git\n",
        "%cd clip_gans\n",
        "!git checkout evaluation ### WARNING!!!\n",
        "\n",
        "try:\n",
        "  import torch\n",
        "except:\n",
        "  !pip install torch=={pytorch_version} -f https://download.pytorch.org/whl/torch_stable.html\n",
        "\n",
        "try:\n",
        "  import torchvision\n",
        "except:\n",
        "  !pip install torchvision=={torchvision_version} -f https://download.pytorch.org/whl/torch_stable.html\n",
        "\n",
        "!pip install pytorch_pretrained_biggan pymoo kornia ftfy tensorboard\n",
        "\n",
        "# IMPORTS\n",
        "import warnings\n",
        "\n",
        "import argparse\n",
        "import os\n",
        "import torch\n",
        "import numpy as np\n",
        "import pickle\n",
        "import math\n",
        "from tqdm import tqdm_notebook\n",
        "from pymoo.optimize import minimize\n",
        "from pymoo.algorithms.so_genetic_algorithm import GA\n",
        "from pymoo.factory import get_algorithm, get_decision_making, get_decomposition\n",
        "from pymoo.visualization.scatter import Scatter\n",
        "import torchvision\n",
        "from IPython.display import Image, display\n",
        "import urllib.request\n",
        "import cv2\n",
        "\n",
        "from config import get_config\n",
        "from problem import GenerationProblem\n",
        "from operators import get_operators\n",
        "\n",
        "\n",
        "warnings.filterwarnings('ignore')"
      ],
      "execution_count": 1,
      "outputs": []
    },
    {
      "cell_type": "code",
      "metadata": {
        "id": "hvVgrYTVifvP",
        "cellView": "form"
      },
      "source": [
        "#@title Input Parameters (Code will produce (population_size*number_of_loops) evaluation images)\n",
        "target = \"desk\" #@param {type:\"string\"}\n",
        "config = \"DeepMindBigGAN256\" #@param [\"DeepMindBigGAN256\", \"DeepMindBigGAN512\", \"StyleGAN2_ffhq_nod\", \"StyleGAN2_car_nod\", \"StyleGAN2_church_nod\"]\n",
        "generations = 100 #@param {type:\"number\"}\n",
        "population_size = 64 #@param {type:\"number\"}\n",
        "number_of_loops =  1#@param {type:\"number\"}\n",
        "algorithm_param = 'ga' #@param ['ga', 'de']"
      ],
      "execution_count": 2,
      "outputs": []
    },
    {
      "cell_type": "code",
      "metadata": {
        "id": "TjbW8w0tkYvt",
        "cellView": "form"
      },
      "source": [
        "#@title Config \n",
        "config = argparse.Namespace(\n",
        "    config=config,\n",
        "    target=target,\n",
        "    device=\"cuda\",\n",
        "    generations=generations,\n",
        "    tmp_folder=\"./results\"\n",
        ")\n",
        "vars(config).update(get_config(config.config))\n",
        "config.pop_size = population_size\n",
        "config.algorithm = algorithm_param\n",
        "config.generations = generations\n",
        "\n",
        "if not os.path.exists(config.tmp_folder): os.mkdir(config.tmp_folder)\n",
        "if not os.path.exists(f'{config.tmp_folder}/{config.target}'): os.mkdir(f'{config.tmp_folder}/{config.target}')\n"
      ],
      "execution_count": 3,
      "outputs": []
    },
    {
      "cell_type": "code",
      "metadata": {
        "cellView": "form",
        "id": "6ar7SdCbkvJC"
      },
      "source": [
        "#@title Support methods\n",
        "\n",
        "def split_into_tiles_and_save(image):\n",
        "  \"\"\"\n",
        "  Method splits batch image from the Pymoo output to the equal tiles and save them\n",
        "  to the results directory.\n",
        "  \"\"\"\n",
        "  global config, iteration, loop, target\n",
        "  M = int(image.shape[0]//math.sqrt(config.pop_size))\n",
        "  N = int(image.shape[1]//math.sqrt(config.pop_size))\n",
        "  tiles = [image[x:x+M,y:y+N] for x in range(0,image.shape[0],M) for y in range(0,image.shape[1],N)]\n",
        "  if not os.path.exists(f'{config.tmp_folder}/{config.target}/{loop}'): os.mkdir(f'{config.tmp_folder}/{config.target}/{loop}')\n",
        "  for j, each in enumerate(tiles):\n",
        "    cv2.imwrite(f'./{config.tmp_folder}/{config.target}/{loop}/{target}_loop_{loop}_id_{j}.jpg', each)\n",
        "\n",
        "def save_callback(algorithm):\n",
        "    global config, iteration, loop, target\n",
        "\n",
        "    iteration += 1\n",
        "\n",
        "    sortedpop = sorted(algorithm.pop, key=lambda p: p.F)\n",
        "    X = np.stack([p.X for p in sortedpop])      \n",
        "    ls = config.latent(config)\n",
        "    ls.set_from_population(X)\n",
        "    if iteration == config.generations:\n",
        "      with torch.no_grad():\n",
        "        generated = algorithm.problem.generator.generate(ls)\n",
        "        name = f'batch_loop_{loop}.jpg'\n",
        "        algorithm.problem.generator.save(generated, f\"./{config.tmp_folder}/{config.target}/{name}\")\n",
        "        im = cv2.imread(f\"./{config.tmp_folder}/{config.target}/{name}\")\n",
        "        split_into_tiles_and_save(im)\n",
        "\n",
        "def generate_image(loop: int):\n",
        "  problem = GenerationProblem(config)\n",
        "  operators = get_operators(config)\n",
        "\n",
        "  algorithm = get_algorithm(\n",
        "      config.algorithm,\n",
        "      pop_size=config.pop_size,\n",
        "      sampling=operators[\"sampling\"],\n",
        "      crossover=operators[\"crossover\"],\n",
        "      mutation=operators[\"mutation\"],\n",
        "      eliminate_duplicates=True,\n",
        "      callback=save_callback,\n",
        "      **(config.algorithm_args[config.algorithm] if \"algorithm_args\" in config and config.algorithm in config.algorithm_args else dict())\n",
        "  )\n",
        "\n",
        "  res = minimize(\n",
        "      problem,\n",
        "      algorithm,\n",
        "      (\"n_gen\", config.generations),\n",
        "      save_history=False,\n",
        "      verbose=False,\n",
        "  )"
      ],
      "execution_count": 4,
      "outputs": []
    },
    {
      "cell_type": "code",
      "metadata": {
        "colab": {
          "base_uri": "https://localhost:8080/",
          "height": 65,
          "referenced_widgets": [
            "dd0c59ba6d20448f943e8b3ad13ab6eb",
            "61f49a63cb564009908ee799640b6e86",
            "33a75502ace64bf99fe6fe71bf1064b0",
            "6ebb2b24f2a9496b907534719534a901",
            "0f84aef947cb4929ad4b9d29f87df078",
            "30e1cec905ad498f82d9bed818189ef4",
            "b414b231a01e4cfea9a954e897d1aa7f",
            "d59a7f5c031c4c38a35ad4791300dd51"
          ]
        },
        "cellView": "form",
        "id": "VRIYW8CGk4js",
        "outputId": "851b3868-665c-4a6e-9b76-edaddfd8c95b"
      },
      "source": [
        "#@title RUN (GENERATE IMAGES)\n",
        "\n",
        "\n",
        "for loop in tqdm_notebook(range(number_of_loops)):\n",
        "  iteration=0\n",
        "  generate_image(loop)"
      ],
      "execution_count": 5,
      "outputs": [
        {
          "output_type": "display_data",
          "data": {
            "application/vnd.jupyter.widget-view+json": {
              "model_id": "dd0c59ba6d20448f943e8b3ad13ab6eb",
              "version_minor": 0,
              "version_major": 2
            },
            "text/plain": [
              "HBox(children=(FloatProgress(value=0.0, max=1.0), HTML(value='')))"
            ]
          },
          "metadata": {
            "tags": []
          }
        },
        {
          "output_type": "stream",
          "text": [
            "\n"
          ],
          "name": "stdout"
        }
      ]
    },
    {
      "cell_type": "markdown",
      "metadata": {
        "id": "xLfKongQ5qiy"
      },
      "source": [
        "### RESNET - CLASS EVALUATION"
      ]
    },
    {
      "cell_type": "code",
      "metadata": {
        "id": "1f0tW8C2qeeF",
        "cellView": "form"
      },
      "source": [
        "#@title RESNET initialization\n",
        "%%capture\n",
        "model = torch.hub.load('pytorch/vision:v0.9.0', 'resnet50', pretrained=True)\n",
        "model.eval()\n",
        "\n",
        "import PIL\n",
        "from torchvision import transforms"
      ],
      "execution_count": 6,
      "outputs": []
    },
    {
      "cell_type": "code",
      "metadata": {
        "id": "3R4U_40kOZKb",
        "colab": {
          "base_uri": "https://localhost:8080/",
          "height": 162,
          "referenced_widgets": [
            "fd557ccd3ff34589ae6ba4298970302e",
            "1177fa237dda4f78bdaf4afb0b7cbc3b",
            "457d23b7a95b42ebaa56f7949731b81e",
            "648302e8298043bea4e99a5edaab15e4",
            "e7c65bebd9e24d3196e92b984dfe0e38",
            "aff384db18604c1aa27638c1dd05b790",
            "248e6d381b954636ae7cb1c5bdd85755",
            "611043c8d46449ac8d86d11091e633ed"
          ]
        },
        "cellView": "form",
        "outputId": "9d39887d-3c63-4aae-efe1-1f244333bb85"
      },
      "source": [
        "#@title RUN - EVALUATE CLASS\n",
        "class_to_check = 'desk' #@param {type:\"string\"}\n",
        "\n",
        "with open(\"/content/imagenet_classes.txt\", \"r\") as f:\n",
        "  categories = [s.strip() for s in f.readlines()]\n",
        "\n",
        "folders_to_check = [dI for dI in os.listdir(f'/content/clip_gans/{config.tmp_folder}/{class_to_check}') if os.path.isdir(os.path.join(f'/content/clip_gans/{config.tmp_folder}/{class_to_check}', dI))]\n",
        "list_of_images = list()\n",
        "for folder in folders_to_check:\n",
        "  for (dirpath, dirnames, filenames) in os.walk(f'/content/clip_gans/{config.tmp_folder[2:]}/{class_to_check}/{folder}'):\n",
        "      list_of_images += [os.path.join(dirpath, file) for file in filenames]\n",
        "\n",
        "acc_count = 0\n",
        "for image_path in tqdm_notebook(list_of_images):\n",
        "  input_image = PIL.Image.open(image_path)\n",
        "  preprocess = transforms.Compose([\n",
        "    transforms.Resize(256),\n",
        "    transforms.CenterCrop(224),\n",
        "    transforms.ToTensor(),\n",
        "    transforms.Normalize(mean=[0.485, 0.456, 0.406], std=[0.229, 0.224, 0.225]),\n",
        "  ])\n",
        "  input_tensor = preprocess(input_image)\n",
        "  input_batch = input_tensor.unsqueeze(0)\n",
        "  input_batch = input_batch.to('cuda')\n",
        "  model.to('cuda')\n",
        "  with torch.no_grad():\n",
        "    output = model(input_batch)\n",
        "  probabilities = torch.nn.functional.softmax(output[0], dim=0)\n",
        "\n",
        "  top_prob, top_catid = torch.topk(probabilities, 1)\n",
        "  predicted_label = categories[top_catid[0]]\n",
        "\n",
        "  if predicted_label==class_to_check:\n",
        "    acc_count += 1\n",
        "  \n",
        "print(f'\\nAccuracy for {class_to_check.upper()} class: {round(acc_count/len(list_of_images)*100, 2)}%')\n",
        "print(f'Number of evaluated images: {len(list_of_images)}')\n",
        "print(\"\")\n",
        "print(f'Generation process summary:')\n",
        "print(f'- Number of iterations per loop: {config.generations}')"
      ],
      "execution_count": 8,
      "outputs": [
        {
          "output_type": "display_data",
          "data": {
            "application/vnd.jupyter.widget-view+json": {
              "model_id": "fd557ccd3ff34589ae6ba4298970302e",
              "version_minor": 0,
              "version_major": 2
            },
            "text/plain": [
              "HBox(children=(FloatProgress(value=0.0, max=81.0), HTML(value='')))"
            ]
          },
          "metadata": {
            "tags": []
          }
        },
        {
          "output_type": "stream",
          "text": [
            "\n",
            "\n",
            "Accuracy for DESK class: 28.4%\n",
            "Number of evaluated images: 81\n",
            "\n",
            "Generation process summary:\n",
            "- Number of iterations per loop: 100\n"
          ],
          "name": "stdout"
        }
      ]
    },
    {
      "cell_type": "code",
      "metadata": {
        "colab": {
          "base_uri": "https://localhost:8080/",
          "height": 372
        },
        "id": "-k2-FWoCb-aa",
        "cellView": "form",
        "outputId": "3a0dcd9a-793b-4987-fb4d-33957e251646"
      },
      "source": [
        "#@title Single-photo evaluation (TOP-5 classes)\n",
        "  \n",
        "image_path = '/content/clip_gans/results/desk/0/desk_loop_0_id_0.jpg' #@param {type: \"string\"}\n",
        "with open(\"/content/imagenet_classes.txt\", \"r\") as f:\n",
        "  categories = [s.strip() for s in f.readlines()]\n",
        "\n",
        "input_image = PIL.Image.open(image_path)\n",
        "display(input_image)\n",
        "preprocess = transforms.Compose([\n",
        "  transforms.Resize(256),\n",
        "  transforms.CenterCrop(224),\n",
        "  transforms.ToTensor(),\n",
        "  transforms.Normalize(mean=[0.485, 0.456, 0.406], std=[0.229, 0.224, 0.225]),\n",
        "])\n",
        "input_tensor = preprocess(input_image)\n",
        "input_batch = input_tensor.unsqueeze(0)\n",
        "input_batch = input_batch.to('cuda')\n",
        "model.to('cuda')\n",
        "with torch.no_grad():\n",
        "  output = model(input_batch)\n",
        "probabilities = torch.nn.functional.softmax(output[0], dim=0)\n",
        "\n",
        "top_prob, top_catid = torch.topk(probabilities, 5)\n",
        "\n",
        "print('TOP 5 predicted categories:')\n",
        "top5_prob, top5_catid = torch.topk(probabilities, 5)\n",
        "for i in range(top5_prob.size(0)):\n",
        "    print(categories[top5_catid[i]], f'{round(top5_prob[i].item()*100, 2)}%')"
      ],
      "execution_count": 13,
      "outputs": [
        {
          "output_type": "display_data",
          "data": {
            "image/png": "[encoded data removed]",
            "text/plain": [
              "<PIL.JpegImagePlugin.JpegImageFile image mode=RGB size=258x258 at 0x7FCD5B372810>"
            ]
          },
          "metadata": {
            "tags": []
          }
        },
        {
          "output_type": "stream",
          "text": [
            "TOP 5 predicted categories:\n",
            "desk 42.75%\n",
            "dining table 11.43%\n",
            "microwave 3.98%\n",
            "monitor 2.65%\n",
            "library 2.58%\n"
          ],
          "name": "stdout"
        }
      ]
    }
  ]
}