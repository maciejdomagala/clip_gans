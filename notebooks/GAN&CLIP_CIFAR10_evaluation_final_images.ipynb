{
  "nbformat": 4,
  "nbformat_minor": 0,
  "metadata": {
    "colab": {
      "name": "GAN&CLIP_CIFAR10_evaluation_final_images.ipynb",
      "provenance": [],
      "collapsed_sections": [],
      "toc_visible": true
    },
    "kernelspec": {
      "name": "python3",
      "display_name": "Python 3"
    },
    "language_info": {
      "name": "python"
    },
    "accelerator": "GPU",
    "widgets": {
      "application/vnd.jupyter.widget-state+json": {
        "0408bbe83d0c4c8398c89c0a3bf38827": {
          "model_module": "@jupyter-widgets/controls",
          "model_name": "HBoxModel",
          "state": {
            "_view_name": "HBoxView",
            "_dom_classes": [],
            "_model_name": "HBoxModel",
            "_view_module": "@jupyter-widgets/controls",
            "_model_module_version": "1.5.0",
            "_view_count": null,
            "_view_module_version": "1.5.0",
            "box_style": "",
            "layout": "IPY_MODEL_655f8f0b1b9f4fa493ad04c42ccc75ad",
            "_model_module": "@jupyter-widgets/controls",
            "children": [
              "IPY_MODEL_f176be9d320f4bb0a61228f32cd95df7",
              "IPY_MODEL_1b0e06a609ef493882d1f9c47214b3b3"
            ]
          }
        },
        "655f8f0b1b9f4fa493ad04c42ccc75ad": {
          "model_module": "@jupyter-widgets/base",
          "model_name": "LayoutModel",
          "state": {
            "_view_name": "LayoutView",
            "grid_template_rows": null,
            "right": null,
            "justify_content": null,
            "_view_module": "@jupyter-widgets/base",
            "overflow": null,
            "_model_module_version": "1.2.0",
            "_view_count": null,
            "flex_flow": null,
            "width": null,
            "min_width": null,
            "border": null,
            "align_items": null,
            "bottom": null,
            "_model_module": "@jupyter-widgets/base",
            "top": null,
            "grid_column": null,
            "overflow_y": null,
            "overflow_x": null,
            "grid_auto_flow": null,
            "grid_area": null,
            "grid_template_columns": null,
            "flex": null,
            "_model_name": "LayoutModel",
            "justify_items": null,
            "grid_row": null,
            "max_height": null,
            "align_content": null,
            "visibility": null,
            "align_self": null,
            "height": null,
            "min_height": null,
            "padding": null,
            "grid_auto_rows": null,
            "grid_gap": null,
            "max_width": null,
            "order": null,
            "_view_module_version": "1.2.0",
            "grid_template_areas": null,
            "object_position": null,
            "object_fit": null,
            "grid_auto_columns": null,
            "margin": null,
            "display": null,
            "left": null
          }
        },
        "f176be9d320f4bb0a61228f32cd95df7": {
          "model_module": "@jupyter-widgets/controls",
          "model_name": "FloatProgressModel",
          "state": {
            "_view_name": "ProgressView",
            "style": "IPY_MODEL_806ccf98dc864a71bacf42ae3cc25d1b",
            "_dom_classes": [],
            "description": "100%",
            "_model_name": "FloatProgressModel",
            "bar_style": "success",
            "max": 1,
            "_view_module": "@jupyter-widgets/controls",
            "_model_module_version": "1.5.0",
            "value": 1,
            "_view_count": null,
            "_view_module_version": "1.5.0",
            "orientation": "horizontal",
            "min": 0,
            "description_tooltip": null,
            "_model_module": "@jupyter-widgets/controls",
            "layout": "IPY_MODEL_a6397d5113ee45b4a1348f422c09cf26"
          }
        },
        "1b0e06a609ef493882d1f9c47214b3b3": {
          "model_module": "@jupyter-widgets/controls",
          "model_name": "HTMLModel",
          "state": {
            "_view_name": "HTMLView",
            "style": "IPY_MODEL_76be9841e9b04fb3b176c67fe27e9437",
            "_dom_classes": [],
            "description": "",
            "_model_name": "HTMLModel",
            "placeholder": "​",
            "_view_module": "@jupyter-widgets/controls",
            "_model_module_version": "1.5.0",
            "value": " 1/1 [01:29&lt;00:00, 89.42s/it]",
            "_view_count": null,
            "_view_module_version": "1.5.0",
            "description_tooltip": null,
            "_model_module": "@jupyter-widgets/controls",
            "layout": "IPY_MODEL_f949d37d68cb4acb8e1bb0e90128167b"
          }
        },
        "806ccf98dc864a71bacf42ae3cc25d1b": {
          "model_module": "@jupyter-widgets/controls",
          "model_name": "ProgressStyleModel",
          "state": {
            "_view_name": "StyleView",
            "_model_name": "ProgressStyleModel",
            "description_width": "initial",
            "_view_module": "@jupyter-widgets/base",
            "_model_module_version": "1.5.0",
            "_view_count": null,
            "_view_module_version": "1.2.0",
            "bar_color": null,
            "_model_module": "@jupyter-widgets/controls"
          }
        },
        "a6397d5113ee45b4a1348f422c09cf26": {
          "model_module": "@jupyter-widgets/base",
          "model_name": "LayoutModel",
          "state": {
            "_view_name": "LayoutView",
            "grid_template_rows": null,
            "right": null,
            "justify_content": null,
            "_view_module": "@jupyter-widgets/base",
            "overflow": null,
            "_model_module_version": "1.2.0",
            "_view_count": null,
            "flex_flow": null,
            "width": null,
            "min_width": null,
            "border": null,
            "align_items": null,
            "bottom": null,
            "_model_module": "@jupyter-widgets/base",
            "top": null,
            "grid_column": null,
            "overflow_y": null,
            "overflow_x": null,
            "grid_auto_flow": null,
            "grid_area": null,
            "grid_template_columns": null,
            "flex": null,
            "_model_name": "LayoutModel",
            "justify_items": null,
            "grid_row": null,
            "max_height": null,
            "align_content": null,
            "visibility": null,
            "align_self": null,
            "height": null,
            "min_height": null,
            "padding": null,
            "grid_auto_rows": null,
            "grid_gap": null,
            "max_width": null,
            "order": null,
            "_view_module_version": "1.2.0",
            "grid_template_areas": null,
            "object_position": null,
            "object_fit": null,
            "grid_auto_columns": null,
            "margin": null,
            "display": null,
            "left": null
          }
        },
        "76be9841e9b04fb3b176c67fe27e9437": {
          "model_module": "@jupyter-widgets/controls",
          "model_name": "DescriptionStyleModel",
          "state": {
            "_view_name": "StyleView",
            "_model_name": "DescriptionStyleModel",
            "description_width": "",
            "_view_module": "@jupyter-widgets/base",
            "_model_module_version": "1.5.0",
            "_view_count": null,
            "_view_module_version": "1.2.0",
            "_model_module": "@jupyter-widgets/controls"
          }
        },
        "f949d37d68cb4acb8e1bb0e90128167b": {
          "model_module": "@jupyter-widgets/base",
          "model_name": "LayoutModel",
          "state": {
            "_view_name": "LayoutView",
            "grid_template_rows": null,
            "right": null,
            "justify_content": null,
            "_view_module": "@jupyter-widgets/base",
            "overflow": null,
            "_model_module_version": "1.2.0",
            "_view_count": null,
            "flex_flow": null,
            "width": null,
            "min_width": null,
            "border": null,
            "align_items": null,
            "bottom": null,
            "_model_module": "@jupyter-widgets/base",
            "top": null,
            "grid_column": null,
            "overflow_y": null,
            "overflow_x": null,
            "grid_auto_flow": null,
            "grid_area": null,
            "grid_template_columns": null,
            "flex": null,
            "_model_name": "LayoutModel",
            "justify_items": null,
            "grid_row": null,
            "max_height": null,
            "align_content": null,
            "visibility": null,
            "align_self": null,
            "height": null,
            "min_height": null,
            "padding": null,
            "grid_auto_rows": null,
            "grid_gap": null,
            "max_width": null,
            "order": null,
            "_view_module_version": "1.2.0",
            "grid_template_areas": null,
            "object_position": null,
            "object_fit": null,
            "grid_auto_columns": null,
            "margin": null,
            "display": null,
            "left": null
          }
        },
        "ed68ccdf487144fa94b07d68838d07fe": {
          "model_module": "@jupyter-widgets/controls",
          "model_name": "HBoxModel",
          "state": {
            "_view_name": "HBoxView",
            "_dom_classes": [],
            "_model_name": "HBoxModel",
            "_view_module": "@jupyter-widgets/controls",
            "_model_module_version": "1.5.0",
            "_view_count": null,
            "_view_module_version": "1.5.0",
            "box_style": "",
            "layout": "IPY_MODEL_b081fef88f6340faaaab58ff7c4b7f99",
            "_model_module": "@jupyter-widgets/controls",
            "children": [
              "IPY_MODEL_1013fd5dd4e04664887ad1c137d82174",
              "IPY_MODEL_3d2ce2632a6548128d487ef5e7e5369a"
            ]
          }
        },
        "b081fef88f6340faaaab58ff7c4b7f99": {
          "model_module": "@jupyter-widgets/base",
          "model_name": "LayoutModel",
          "state": {
            "_view_name": "LayoutView",
            "grid_template_rows": null,
            "right": null,
            "justify_content": null,
            "_view_module": "@jupyter-widgets/base",
            "overflow": null,
            "_model_module_version": "1.2.0",
            "_view_count": null,
            "flex_flow": null,
            "width": null,
            "min_width": null,
            "border": null,
            "align_items": null,
            "bottom": null,
            "_model_module": "@jupyter-widgets/base",
            "top": null,
            "grid_column": null,
            "overflow_y": null,
            "overflow_x": null,
            "grid_auto_flow": null,
            "grid_area": null,
            "grid_template_columns": null,
            "flex": null,
            "_model_name": "LayoutModel",
            "justify_items": null,
            "grid_row": null,
            "max_height": null,
            "align_content": null,
            "visibility": null,
            "align_self": null,
            "height": null,
            "min_height": null,
            "padding": null,
            "grid_auto_rows": null,
            "grid_gap": null,
            "max_width": null,
            "order": null,
            "_view_module_version": "1.2.0",
            "grid_template_areas": null,
            "object_position": null,
            "object_fit": null,
            "grid_auto_columns": null,
            "margin": null,
            "display": null,
            "left": null
          }
        },
        "1013fd5dd4e04664887ad1c137d82174": {
          "model_module": "@jupyter-widgets/controls",
          "model_name": "FloatProgressModel",
          "state": {
            "_view_name": "ProgressView",
            "style": "IPY_MODEL_5abffb23fcfa4cb5b821da2e3dd70af5",
            "_dom_classes": [],
            "description": "  0%",
            "_model_name": "FloatProgressModel",
            "bar_style": "",
            "max": 1,
            "_view_module": "@jupyter-widgets/controls",
            "_model_module_version": "1.5.0",
            "value": 0,
            "_view_count": null,
            "_view_module_version": "1.5.0",
            "orientation": "horizontal",
            "min": 0,
            "description_tooltip": null,
            "_model_module": "@jupyter-widgets/controls",
            "layout": "IPY_MODEL_7e786f3b98f0462c8e299235a95751b2"
          }
        },
        "3d2ce2632a6548128d487ef5e7e5369a": {
          "model_module": "@jupyter-widgets/controls",
          "model_name": "HTMLModel",
          "state": {
            "_view_name": "HTMLView",
            "style": "IPY_MODEL_c9792cca36654dd09185432977fe56c9",
            "_dom_classes": [],
            "description": "",
            "_model_name": "HTMLModel",
            "placeholder": "​",
            "_view_module": "@jupyter-widgets/controls",
            "_model_module_version": "1.5.0",
            "value": " 0/1 [00:00&lt;?, ?it/s]",
            "_view_count": null,
            "_view_module_version": "1.5.0",
            "description_tooltip": null,
            "_model_module": "@jupyter-widgets/controls",
            "layout": "IPY_MODEL_bc109680346e4c89881a62977b616e8e"
          }
        },
        "5abffb23fcfa4cb5b821da2e3dd70af5": {
          "model_module": "@jupyter-widgets/controls",
          "model_name": "ProgressStyleModel",
          "state": {
            "_view_name": "StyleView",
            "_model_name": "ProgressStyleModel",
            "description_width": "initial",
            "_view_module": "@jupyter-widgets/base",
            "_model_module_version": "1.5.0",
            "_view_count": null,
            "_view_module_version": "1.2.0",
            "bar_color": null,
            "_model_module": "@jupyter-widgets/controls"
          }
        },
        "7e786f3b98f0462c8e299235a95751b2": {
          "model_module": "@jupyter-widgets/base",
          "model_name": "LayoutModel",
          "state": {
            "_view_name": "LayoutView",
            "grid_template_rows": null,
            "right": null,
            "justify_content": null,
            "_view_module": "@jupyter-widgets/base",
            "overflow": null,
            "_model_module_version": "1.2.0",
            "_view_count": null,
            "flex_flow": null,
            "width": null,
            "min_width": null,
            "border": null,
            "align_items": null,
            "bottom": null,
            "_model_module": "@jupyter-widgets/base",
            "top": null,
            "grid_column": null,
            "overflow_y": null,
            "overflow_x": null,
            "grid_auto_flow": null,
            "grid_area": null,
            "grid_template_columns": null,
            "flex": null,
            "_model_name": "LayoutModel",
            "justify_items": null,
            "grid_row": null,
            "max_height": null,
            "align_content": null,
            "visibility": null,
            "align_self": null,
            "height": null,
            "min_height": null,
            "padding": null,
            "grid_auto_rows": null,
            "grid_gap": null,
            "max_width": null,
            "order": null,
            "_view_module_version": "1.2.0",
            "grid_template_areas": null,
            "object_position": null,
            "object_fit": null,
            "grid_auto_columns": null,
            "margin": null,
            "display": null,
            "left": null
          }
        },
        "c9792cca36654dd09185432977fe56c9": {
          "model_module": "@jupyter-widgets/controls",
          "model_name": "DescriptionStyleModel",
          "state": {
            "_view_name": "StyleView",
            "_model_name": "DescriptionStyleModel",
            "description_width": "",
            "_view_module": "@jupyter-widgets/base",
            "_model_module_version": "1.5.0",
            "_view_count": null,
            "_view_module_version": "1.2.0",
            "_model_module": "@jupyter-widgets/controls"
          }
        },
        "bc109680346e4c89881a62977b616e8e": {
          "model_module": "@jupyter-widgets/base",
          "model_name": "LayoutModel",
          "state": {
            "_view_name": "LayoutView",
            "grid_template_rows": null,
            "right": null,
            "justify_content": null,
            "_view_module": "@jupyter-widgets/base",
            "overflow": null,
            "_model_module_version": "1.2.0",
            "_view_count": null,
            "flex_flow": null,
            "width": null,
            "min_width": null,
            "border": null,
            "align_items": null,
            "bottom": null,
            "_model_module": "@jupyter-widgets/base",
            "top": null,
            "grid_column": null,
            "overflow_y": null,
            "overflow_x": null,
            "grid_auto_flow": null,
            "grid_area": null,
            "grid_template_columns": null,
            "flex": null,
            "_model_name": "LayoutModel",
            "justify_items": null,
            "grid_row": null,
            "max_height": null,
            "align_content": null,
            "visibility": null,
            "align_self": null,
            "height": null,
            "min_height": null,
            "padding": null,
            "grid_auto_rows": null,
            "grid_gap": null,
            "max_width": null,
            "order": null,
            "_view_module_version": "1.2.0",
            "grid_template_areas": null,
            "object_position": null,
            "object_fit": null,
            "grid_auto_columns": null,
            "margin": null,
            "display": null,
            "left": null
          }
        }
      }
    }
  },
  "cells": [
    {
      "cell_type": "markdown",
      "metadata": {
        "id": "nO8y7Rnaui2x"
      },
      "source": [
        "##GAN&CLIP&GA - CIFAR 10 EVALUATION - USING FINAL IMAGES\n",
        "\n",
        "Authors: Maciej Domagała, Adam Komorowski"
      ]
    },
    {
      "cell_type": "markdown",
      "metadata": {
        "id": "urUX0hTv51l5"
      },
      "source": [
        "### GENERATING IMAGES"
      ]
    },
    {
      "cell_type": "code",
      "metadata": {
        "id": "17hsaaHmiNvp"
      },
      "source": [
        "#@title Initialization (Installation, Imports) - check github branch!\n",
        "%%capture\n",
        "import subprocess\n",
        "import re\n",
        "\n",
        "nvcc = subprocess.check_output([\"nvcc\", \"--version\"]).decode(\"utf-8\")\n",
        "version = re.findall(\"release (\\d+\\.\\d+)\", nvcc)[0]\n",
        "\n",
        "pytorch_suffix = {\n",
        "    \"10.0\": \"+cu100\",\n",
        "    \"10.1\": \"+cu101\",\n",
        "    \"10.2\": \"\",\n",
        "}\n",
        "\n",
        "pytorch_version = \"1.7.1\" + (pytorch_suffix[version] if version in pytorch_suffix else \"+cu110\")\n",
        "torchvision_version = \"0.8.2\" + (pytorch_suffix[version] if version in pytorch_suffix else \"+cu110\")\n",
        "\n",
        "!git clone https://github.com/maciejdomagala/clip_gans.git\n",
        "%cd clip_gans\n",
        "!git checkout main ### WARNING!!!\n",
        "\n",
        "try:\n",
        "  import torch\n",
        "except:\n",
        "  !pip install torch=={pytorch_version} -f https://download.pytorch.org/whl/torch_stable.html\n",
        "\n",
        "try:\n",
        "  import torchvision\n",
        "except:\n",
        "  !pip install torchvision=={torchvision_version} -f https://download.pytorch.org/whl/torch_stable.html\n",
        "\n",
        "!pip install pytorch_pretrained_biggan pymoo kornia ftfy tensorboard\n",
        "\n",
        "# IMPORTS\n",
        "import warnings\n",
        "\n",
        "import argparse\n",
        "import os\n",
        "import torch\n",
        "import numpy as np\n",
        "import pickle\n",
        "import math\n",
        "from tqdm import tqdm_notebook\n",
        "from pymoo.optimize import minimize\n",
        "from pymoo.algorithms.so_genetic_algorithm import GA\n",
        "from pymoo.factory import get_algorithm, get_decision_making, get_decomposition\n",
        "from pymoo.visualization.scatter import Scatter\n",
        "import torchvision\n",
        "from IPython.display import Image, display\n",
        "import urllib.request\n",
        "import cv2\n",
        "\n",
        "from config import get_config\n",
        "from problem import GenerationProblem\n",
        "from operators import get_operators\n",
        "from operators import get_algo\n",
        "\n",
        "\n",
        "warnings.filterwarnings('ignore')"
      ],
      "execution_count": 1,
      "outputs": []
    },
    {
      "cell_type": "code",
      "metadata": {
        "id": "hvVgrYTVifvP"
      },
      "source": [
        "#@title Input Parameters\n",
        "target = \"a cat\" #@param {type:\"string\"}\n",
        "config = \"DeepMindBigGAN256_ga\" #@param [\"DeepMindBigGAN256_ga\",\"DeepMindBigGAN256_de\", \"StyleGAN2_ffhq_ga\",\"StyleGAN2_ffhq_de\", \"StyleGAN2_car_ga\", \"StyleGAN2_car_de\",\"StyleGAN2_church_ga\", \"StyleGAN2_church_de\",\"StyleGAN2_cat_ga\", \"StyleGAN2_cat_de\"]\n",
        "generations =   40#@param {type:\"number\"}\n",
        "callbacks_each =  10 #@param {type: \"number\"}\n",
        "population_size =  64#@param {type:\"number\"}\n",
        "number_of_loops =  1 #@param {type:\"number\"}"
      ],
      "execution_count": 2,
      "outputs": []
    },
    {
      "cell_type": "code",
      "metadata": {
        "id": "qJbv4kq8rWGT"
      },
      "source": [
        "#@title Download weights for given model\n",
        "!chmod +x ./download-weights.sh\n",
        "if \"ffhq\" in config:\n",
        "  ! ./download-weights.sh StyleGAN2-ffhq\n",
        "if \"church\" in config:\n",
        "  ! ./download-weights.sh StyleGAN2-church\n",
        "if \"car\" in config:\n",
        "  ! ./download-weights.sh StyleGAN2-car\n",
        "if \"cat\" in config:\n",
        "  ! ./download-weights.sh StyleGAN2-cat"
      ],
      "execution_count": 3,
      "outputs": []
    },
    {
      "cell_type": "code",
      "metadata": {
        "id": "TjbW8w0tkYvt"
      },
      "source": [
        "#@title Config \n",
        "config = argparse.Namespace(\n",
        "    config=config,\n",
        "    target=target,\n",
        "    device=\"cuda\",\n",
        "    generations=generations,\n",
        "    tmp_folder=\"./results\"\n",
        ")\n",
        "vars(config).update(get_config(config.config))\n",
        "config.pop_size = population_size\n",
        "# config.algorithm = algorithm_param\n",
        "config.generations = generations\n",
        "\n",
        "if not os.path.exists(config.tmp_folder): os.mkdir(config.tmp_folder)\n",
        "if not os.path.exists(f'{config.tmp_folder}/{config.target}'): os.mkdir(f'{config.tmp_folder}/{config.target}')\n"
      ],
      "execution_count": 4,
      "outputs": []
    },
    {
      "cell_type": "code",
      "metadata": {
        "id": "6ar7SdCbkvJC"
      },
      "source": [
        "#@title Support methods\n",
        "\n",
        "def callback(algorithm):\n",
        "    global config, iteration, loop, target\n",
        "\n",
        "    iteration += 1\n",
        "\n",
        "    sortedpop = sorted(algorithm.pop, key=lambda p: p.F)\n",
        "    X = np.stack([p.X for p in sortedpop])      \n",
        "    ls = config.latent(config)\n",
        "    ls.set_from_population(X)\n",
        "\n",
        "def generate_image(loop: int):\n",
        "  problem = GenerationProblem(config)\n",
        "\n",
        "  kwargs = get_algo(config)\n",
        "\n",
        "  algorithm = get_algorithm(\n",
        "      config.algorithm,\n",
        "      callback=callback,\n",
        "      **kwargs\n",
        "  )\n",
        "\n",
        "  res = minimize(\n",
        "      problem,\n",
        "      algorithm,\n",
        "      (\"n_gen\", config.generations),\n",
        "      save_history=False,\n",
        "      verbose=True,\n",
        "  )\n",
        "  \n",
        "  X = np.atleast_2d(res.X)\n",
        "  ls = config.latent(config)\n",
        "  ls.set_from_population(X)\n",
        "\n",
        "  with torch.no_grad():\n",
        "      generated = problem.generator.generate(ls)\n",
        "  print(f'Final image for \"{config.target}\" target - loop {loop}.')\n",
        "  problem.generator.save(generated, f\"./{config.tmp_folder}/{config.target}/loop_{loop}.jpg\")\n",
        "  display(Image(f\"./{config.tmp_folder}/{config.target}/loop_{loop}.jpg\"))"
      ],
      "execution_count": 7,
      "outputs": []
    },
    {
      "cell_type": "code",
      "metadata": {
        "colab": {
          "base_uri": "https://localhost:8080/",
          "height": 1000,
          "referenced_widgets": [
            "0408bbe83d0c4c8398c89c0a3bf38827",
            "655f8f0b1b9f4fa493ad04c42ccc75ad",
            "f176be9d320f4bb0a61228f32cd95df7",
            "1b0e06a609ef493882d1f9c47214b3b3",
            "806ccf98dc864a71bacf42ae3cc25d1b",
            "a6397d5113ee45b4a1348f422c09cf26",
            "76be9841e9b04fb3b176c67fe27e9437",
            "f949d37d68cb4acb8e1bb0e90128167b"
          ]
        },
        "id": "VRIYW8CGk4js",
        "cellView": "form",
        "outputId": "8856be76-ebf6-49e3-d669-70eb88543faf"
      },
      "source": [
        "#@title RUN (GENERATE IMAGES)\n",
        "\n",
        "\n",
        "for loop in tqdm_notebook(range(number_of_loops)):\n",
        "  iteration=0\n",
        "  generate_image(loop)"
      ],
      "execution_count": 8,
      "outputs": [
        {
          "output_type": "display_data",
          "data": {
            "application/vnd.jupyter.widget-view+json": {
              "model_id": "0408bbe83d0c4c8398c89c0a3bf38827",
              "version_minor": 0,
              "version_major": 2
            },
            "text/plain": [
              "HBox(children=(FloatProgress(value=0.0, max=1.0), HTML(value='')))"
            ]
          },
          "metadata": {
            "tags": []
          }
        },
        {
          "output_type": "stream",
          "text": [
            "===========================================================================\n",
            "n_gen |  n_eval |   cv (min)   |   cv (avg)   |     fopt     |     favg    \n",
            "===========================================================================\n",
            "    1 |      64 |  0.00000E+00 |  0.00000E+00 |      -0.2705 |      -0.2249\n",
            "    2 |     128 |  0.00000E+00 |  0.00000E+00 |      -0.2705 |       -0.236\n",
            "    3 |     192 |  0.00000E+00 |  0.00000E+00 |       -0.279 |      -0.2452\n",
            "    4 |     256 |  0.00000E+00 |  0.00000E+00 |       -0.279 |      -0.2522\n",
            "    5 |     320 |  0.00000E+00 |  0.00000E+00 |       -0.279 |      -0.2554\n",
            "    6 |     384 |  0.00000E+00 |  0.00000E+00 |      -0.2842 |      -0.2585\n",
            "    7 |     448 |  0.00000E+00 |  0.00000E+00 |      -0.2969 |       -0.263\n",
            "    8 |     512 |  0.00000E+00 |  0.00000E+00 |      -0.2969 |      -0.2659\n",
            "    9 |     576 |  0.00000E+00 |  0.00000E+00 |      -0.2969 |      -0.2686\n",
            "   10 |     640 |  0.00000E+00 |  0.00000E+00 |      -0.2969 |      -0.2698\n",
            "   11 |     704 |  0.00000E+00 |  0.00000E+00 |      -0.2969 |      -0.2708\n",
            "   12 |     768 |  0.00000E+00 |  0.00000E+00 |      -0.2969 |      -0.2722\n",
            "   13 |     832 |  0.00000E+00 |  0.00000E+00 |      -0.2969 |      -0.2734\n",
            "   14 |     896 |  0.00000E+00 |  0.00000E+00 |      -0.2969 |       -0.275\n",
            "   15 |     960 |  0.00000E+00 |  0.00000E+00 |      -0.2969 |      -0.2761\n",
            "   16 |    1024 |  0.00000E+00 |  0.00000E+00 |      -0.2996 |      -0.2778\n",
            "   17 |    1088 |  0.00000E+00 |  0.00000E+00 |      -0.2996 |      -0.2788\n",
            "   18 |    1152 |  0.00000E+00 |  0.00000E+00 |      -0.2996 |      -0.2803\n",
            "   19 |    1216 |  0.00000E+00 |  0.00000E+00 |      -0.2996 |      -0.2812\n",
            "   20 |    1280 |  0.00000E+00 |  0.00000E+00 |      -0.3025 |      -0.2825\n",
            "   21 |    1344 |  0.00000E+00 |  0.00000E+00 |      -0.3025 |      -0.2837\n",
            "   22 |    1408 |  0.00000E+00 |  0.00000E+00 |      -0.3025 |      -0.2844\n",
            "   23 |    1472 |  0.00000E+00 |  0.00000E+00 |      -0.3025 |      -0.2852\n",
            "   24 |    1536 |  0.00000E+00 |  0.00000E+00 |      -0.3025 |      -0.2866\n",
            "   25 |    1600 |  0.00000E+00 |  0.00000E+00 |      -0.3044 |      -0.2878\n",
            "   26 |    1664 |  0.00000E+00 |  0.00000E+00 |      -0.3066 |       -0.289\n",
            "   27 |    1728 |  0.00000E+00 |  0.00000E+00 |      -0.3066 |      -0.2903\n",
            "   28 |    1792 |  0.00000E+00 |  0.00000E+00 |      -0.3066 |      -0.2905\n",
            "   29 |    1856 |  0.00000E+00 |  0.00000E+00 |      -0.3066 |       -0.291\n",
            "   30 |    1920 |  0.00000E+00 |  0.00000E+00 |      -0.3066 |       -0.292\n",
            "   31 |    1984 |  0.00000E+00 |  0.00000E+00 |      -0.3113 |      -0.2932\n",
            "   32 |    2048 |  0.00000E+00 |  0.00000E+00 |      -0.3113 |      -0.2937\n",
            "   33 |    2112 |  0.00000E+00 |  0.00000E+00 |      -0.3113 |      -0.2942\n",
            "   34 |    2176 |  0.00000E+00 |  0.00000E+00 |      -0.3113 |      -0.2947\n",
            "   35 |    2240 |  0.00000E+00 |  0.00000E+00 |      -0.3113 |      -0.2952\n",
            "   36 |    2304 |  0.00000E+00 |  0.00000E+00 |      -0.3113 |       -0.296\n",
            "   37 |    2368 |  0.00000E+00 |  0.00000E+00 |      -0.3113 |      -0.2964\n",
            "   38 |    2432 |  0.00000E+00 |  0.00000E+00 |      -0.3113 |      -0.2974\n",
            "   39 |    2496 |  0.00000E+00 |  0.00000E+00 |      -0.3113 |      -0.2976\n",
            "   40 |    2560 |  0.00000E+00 |  0.00000E+00 |      -0.3113 |       -0.298\n",
            "Final image for \"a cat\" target - loop 0.\n"
          ],
          "name": "stdout"
        },
        {
          "output_type": "display_data",
          "data": {
            "image/jpeg": "[encoded data removed]",
            "text/plain": [
              "<IPython.core.display.Image object>"
            ]
          },
          "metadata": {
            "tags": []
          }
        },
        {
          "output_type": "stream",
          "text": [
            "\n"
          ],
          "name": "stdout"
        }
      ]
    },
    {
      "cell_type": "markdown",
      "metadata": {
        "id": "xLfKongQ5qiy"
      },
      "source": [
        "### CIFAR10 - CLASS EVALUATION"
      ]
    },
    {
      "cell_type": "code",
      "metadata": {
        "id": "Mixi2VjE5-ZF"
      },
      "source": [
        "#@title Initialization\n",
        "%%capture\n",
        "\n",
        "%cd /content\n",
        "!git clone https://github.com/vrakesh/CIFAR-10-Classifier\n",
        "%cd CIFAR-10-Classifier/\n",
        "\n",
        "from cifar_classifier import cifar_classifier\n",
        "cc = cifar_classifier()\n",
        "model = cc.get_model('cnn')\n",
        "model.load_weights('cifar10.model.cnn.hdf5')\n",
        "cifar10_labels = ['airplane', 'automobile', 'bird', 'cat', 'deer', 'dog', 'frog', 'horse', 'ship', 'truck']"
      ],
      "execution_count": 9,
      "outputs": []
    },
    {
      "cell_type": "code",
      "metadata": {
        "colab": {
          "base_uri": "https://localhost:8080/",
          "height": 49,
          "referenced_widgets": [
            "ed68ccdf487144fa94b07d68838d07fe",
            "b081fef88f6340faaaab58ff7c4b7f99",
            "1013fd5dd4e04664887ad1c137d82174",
            "3d2ce2632a6548128d487ef5e7e5369a",
            "5abffb23fcfa4cb5b821da2e3dd70af5",
            "7e786f3b98f0462c8e299235a95751b2",
            "c9792cca36654dd09185432977fe56c9",
            "bc109680346e4c89881a62977b616e8e"
          ]
        },
        "id": "-k2-FWoCb-aa",
        "outputId": "ed38b463-3e2a-4aef-b4fb-5b7620d1f49e"
      },
      "source": [
        "#@title RUN - EVALUATE CLASS\n",
        "class_to_check = target\n",
        "import PIL\n",
        "list_of_images = []\n",
        "for (dirpath, dirnames, filenames) in os.walk(f'/content/clip_gans/{config.tmp_folder[2:]}/{class_to_check}'):\n",
        "    list_of_images += [os.path.join(dirpath, file) for file in filenames]\n",
        "\n",
        "acc_count = 0\n",
        "for image_path in tqdm_notebook(list_of_images):\n",
        "  im = (PIL.Image.open(image_path))\n",
        "  im = im.resize((32, 32))\n",
        "  im = np.expand_dims(im, 0)\n",
        "  y_hat = model.predict(im)\n",
        "  predicted_label = cifar10_labels[np.argmax(y_hat[0])]\n",
        "  if predicted_label==class_to_check:\n",
        "    acc_count += 1\n",
        "print(f'\\nAccuracy for {class_to_check.upper()} class: {round(acc_count/len(list_of_images)*100, 2)}%, ({acc_count}/{len(list_of_images)})')\n",
        "print(f'Number of evaluated images: {len(list_of_images)}')"
      ],
      "execution_count": null,
      "outputs": [
        {
          "output_type": "display_data",
          "data": {
            "application/vnd.jupyter.widget-view+json": {
              "model_id": "ed68ccdf487144fa94b07d68838d07fe",
              "version_minor": 0,
              "version_major": 2
            },
            "text/plain": [
              "HBox(children=(FloatProgress(value=0.0, max=1.0), HTML(value='')))"
            ]
          },
          "metadata": {
            "tags": []
          }
        }
      ]
    },
    {
      "cell_type": "code",
      "metadata": {
        "id": "5tMnNF7FtBgd"
      },
      "source": [
        ""
      ],
      "execution_count": null,
      "outputs": []
    }
  ]
}