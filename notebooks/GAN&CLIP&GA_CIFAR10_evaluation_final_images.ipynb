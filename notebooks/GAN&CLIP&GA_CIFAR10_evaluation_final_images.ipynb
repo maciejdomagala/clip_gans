{
  "nbformat": 4,
  "nbformat_minor": 0,
  "metadata": {
    "colab": {
      "name": "GAN&CLIP&GA_CIFAR10_evaluation_final_images.ipynb",
      "provenance": [],
      "collapsed_sections": [],
      "toc_visible": true
    },
    "kernelspec": {
      "name": "python3",
      "display_name": "Python 3"
    },
    "language_info": {
      "name": "python"
    },
    "accelerator": "GPU",
    "widgets": {
      "application/vnd.jupyter.widget-state+json": {
        "aafd8482d5504ddead37c81913f61831": {
          "model_module": "@jupyter-widgets/controls",
          "model_name": "HBoxModel",
          "state": {
            "_view_name": "HBoxView",
            "_dom_classes": [],
            "_model_name": "HBoxModel",
            "_view_module": "@jupyter-widgets/controls",
            "_model_module_version": "1.5.0",
            "_view_count": null,
            "_view_module_version": "1.5.0",
            "box_style": "",
            "layout": "IPY_MODEL_9081c2d1e3a94864bc575256c57b67f3",
            "_model_module": "@jupyter-widgets/controls",
            "children": [
              "IPY_MODEL_b436268bd03d4c68acb8b7339a994a04",
              "IPY_MODEL_41cf985949464d7d9e041b59be4d4eee"
            ]
          }
        },
        "9081c2d1e3a94864bc575256c57b67f3": {
          "model_module": "@jupyter-widgets/base",
          "model_name": "LayoutModel",
          "state": {
            "_view_name": "LayoutView",
            "grid_template_rows": null,
            "right": null,
            "justify_content": null,
            "_view_module": "@jupyter-widgets/base",
            "overflow": null,
            "_model_module_version": "1.2.0",
            "_view_count": null,
            "flex_flow": null,
            "width": null,
            "min_width": null,
            "border": null,
            "align_items": null,
            "bottom": null,
            "_model_module": "@jupyter-widgets/base",
            "top": null,
            "grid_column": null,
            "overflow_y": null,
            "overflow_x": null,
            "grid_auto_flow": null,
            "grid_area": null,
            "grid_template_columns": null,
            "flex": null,
            "_model_name": "LayoutModel",
            "justify_items": null,
            "grid_row": null,
            "max_height": null,
            "align_content": null,
            "visibility": null,
            "align_self": null,
            "height": null,
            "min_height": null,
            "padding": null,
            "grid_auto_rows": null,
            "grid_gap": null,
            "max_width": null,
            "order": null,
            "_view_module_version": "1.2.0",
            "grid_template_areas": null,
            "object_position": null,
            "object_fit": null,
            "grid_auto_columns": null,
            "margin": null,
            "display": null,
            "left": null
          }
        },
        "b436268bd03d4c68acb8b7339a994a04": {
          "model_module": "@jupyter-widgets/controls",
          "model_name": "FloatProgressModel",
          "state": {
            "_view_name": "ProgressView",
            "style": "IPY_MODEL_f4663d0598ac472b85e305c5b399682b",
            "_dom_classes": [],
            "description": "100%",
            "_model_name": "FloatProgressModel",
            "bar_style": "success",
            "max": 3,
            "_view_module": "@jupyter-widgets/controls",
            "_model_module_version": "1.5.0",
            "value": 3,
            "_view_count": null,
            "_view_module_version": "1.5.0",
            "orientation": "horizontal",
            "min": 0,
            "description_tooltip": null,
            "_model_module": "@jupyter-widgets/controls",
            "layout": "IPY_MODEL_09180da9023e4c0eb30edf6894217107"
          }
        },
        "41cf985949464d7d9e041b59be4d4eee": {
          "model_module": "@jupyter-widgets/controls",
          "model_name": "HTMLModel",
          "state": {
            "_view_name": "HTMLView",
            "style": "IPY_MODEL_43e993bfb93d4caaaf5e186a3bae981e",
            "_dom_classes": [],
            "description": "",
            "_model_name": "HTMLModel",
            "placeholder": "​",
            "_view_module": "@jupyter-widgets/controls",
            "_model_module_version": "1.5.0",
            "value": " 3/3 [06:37&lt;00:00, 132.35s/it]",
            "_view_count": null,
            "_view_module_version": "1.5.0",
            "description_tooltip": null,
            "_model_module": "@jupyter-widgets/controls",
            "layout": "IPY_MODEL_fb73586006f04096a3e2b6a71f01b19b"
          }
        },
        "f4663d0598ac472b85e305c5b399682b": {
          "model_module": "@jupyter-widgets/controls",
          "model_name": "ProgressStyleModel",
          "state": {
            "_view_name": "StyleView",
            "_model_name": "ProgressStyleModel",
            "description_width": "initial",
            "_view_module": "@jupyter-widgets/base",
            "_model_module_version": "1.5.0",
            "_view_count": null,
            "_view_module_version": "1.2.0",
            "bar_color": null,
            "_model_module": "@jupyter-widgets/controls"
          }
        },
        "09180da9023e4c0eb30edf6894217107": {
          "model_module": "@jupyter-widgets/base",
          "model_name": "LayoutModel",
          "state": {
            "_view_name": "LayoutView",
            "grid_template_rows": null,
            "right": null,
            "justify_content": null,
            "_view_module": "@jupyter-widgets/base",
            "overflow": null,
            "_model_module_version": "1.2.0",
            "_view_count": null,
            "flex_flow": null,
            "width": null,
            "min_width": null,
            "border": null,
            "align_items": null,
            "bottom": null,
            "_model_module": "@jupyter-widgets/base",
            "top": null,
            "grid_column": null,
            "overflow_y": null,
            "overflow_x": null,
            "grid_auto_flow": null,
            "grid_area": null,
            "grid_template_columns": null,
            "flex": null,
            "_model_name": "LayoutModel",
            "justify_items": null,
            "grid_row": null,
            "max_height": null,
            "align_content": null,
            "visibility": null,
            "align_self": null,
            "height": null,
            "min_height": null,
            "padding": null,
            "grid_auto_rows": null,
            "grid_gap": null,
            "max_width": null,
            "order": null,
            "_view_module_version": "1.2.0",
            "grid_template_areas": null,
            "object_position": null,
            "object_fit": null,
            "grid_auto_columns": null,
            "margin": null,
            "display": null,
            "left": null
          }
        },
        "43e993bfb93d4caaaf5e186a3bae981e": {
          "model_module": "@jupyter-widgets/controls",
          "model_name": "DescriptionStyleModel",
          "state": {
            "_view_name": "StyleView",
            "_model_name": "DescriptionStyleModel",
            "description_width": "",
            "_view_module": "@jupyter-widgets/base",
            "_model_module_version": "1.5.0",
            "_view_count": null,
            "_view_module_version": "1.2.0",
            "_model_module": "@jupyter-widgets/controls"
          }
        },
        "fb73586006f04096a3e2b6a71f01b19b": {
          "model_module": "@jupyter-widgets/base",
          "model_name": "LayoutModel",
          "state": {
            "_view_name": "LayoutView",
            "grid_template_rows": null,
            "right": null,
            "justify_content": null,
            "_view_module": "@jupyter-widgets/base",
            "overflow": null,
            "_model_module_version": "1.2.0",
            "_view_count": null,
            "flex_flow": null,
            "width": null,
            "min_width": null,
            "border": null,
            "align_items": null,
            "bottom": null,
            "_model_module": "@jupyter-widgets/base",
            "top": null,
            "grid_column": null,
            "overflow_y": null,
            "overflow_x": null,
            "grid_auto_flow": null,
            "grid_area": null,
            "grid_template_columns": null,
            "flex": null,
            "_model_name": "LayoutModel",
            "justify_items": null,
            "grid_row": null,
            "max_height": null,
            "align_content": null,
            "visibility": null,
            "align_self": null,
            "height": null,
            "min_height": null,
            "padding": null,
            "grid_auto_rows": null,
            "grid_gap": null,
            "max_width": null,
            "order": null,
            "_view_module_version": "1.2.0",
            "grid_template_areas": null,
            "object_position": null,
            "object_fit": null,
            "grid_auto_columns": null,
            "margin": null,
            "display": null,
            "left": null
          }
        },
        "ba2bc32b94f744598673d282d754a604": {
          "model_module": "@jupyter-widgets/controls",
          "model_name": "HBoxModel",
          "state": {
            "_view_name": "HBoxView",
            "_dom_classes": [],
            "_model_name": "HBoxModel",
            "_view_module": "@jupyter-widgets/controls",
            "_model_module_version": "1.5.0",
            "_view_count": null,
            "_view_module_version": "1.5.0",
            "box_style": "",
            "layout": "IPY_MODEL_6686713bccc742b98ac1868aceba08fb",
            "_model_module": "@jupyter-widgets/controls",
            "children": [
              "IPY_MODEL_b3532931400c4ec68a074fb8eb7221b2",
              "IPY_MODEL_f70219fbb88246908f25adae0bbed1ea"
            ]
          }
        },
        "6686713bccc742b98ac1868aceba08fb": {
          "model_module": "@jupyter-widgets/base",
          "model_name": "LayoutModel",
          "state": {
            "_view_name": "LayoutView",
            "grid_template_rows": null,
            "right": null,
            "justify_content": null,
            "_view_module": "@jupyter-widgets/base",
            "overflow": null,
            "_model_module_version": "1.2.0",
            "_view_count": null,
            "flex_flow": null,
            "width": null,
            "min_width": null,
            "border": null,
            "align_items": null,
            "bottom": null,
            "_model_module": "@jupyter-widgets/base",
            "top": null,
            "grid_column": null,
            "overflow_y": null,
            "overflow_x": null,
            "grid_auto_flow": null,
            "grid_area": null,
            "grid_template_columns": null,
            "flex": null,
            "_model_name": "LayoutModel",
            "justify_items": null,
            "grid_row": null,
            "max_height": null,
            "align_content": null,
            "visibility": null,
            "align_self": null,
            "height": null,
            "min_height": null,
            "padding": null,
            "grid_auto_rows": null,
            "grid_gap": null,
            "max_width": null,
            "order": null,
            "_view_module_version": "1.2.0",
            "grid_template_areas": null,
            "object_position": null,
            "object_fit": null,
            "grid_auto_columns": null,
            "margin": null,
            "display": null,
            "left": null
          }
        },
        "b3532931400c4ec68a074fb8eb7221b2": {
          "model_module": "@jupyter-widgets/controls",
          "model_name": "FloatProgressModel",
          "state": {
            "_view_name": "ProgressView",
            "style": "IPY_MODEL_fa87b6fa07d34fbebbae8e967cbbd280",
            "_dom_classes": [],
            "description": "100%",
            "_model_name": "FloatProgressModel",
            "bar_style": "success",
            "max": 3,
            "_view_module": "@jupyter-widgets/controls",
            "_model_module_version": "1.5.0",
            "value": 3,
            "_view_count": null,
            "_view_module_version": "1.5.0",
            "orientation": "horizontal",
            "min": 0,
            "description_tooltip": null,
            "_model_module": "@jupyter-widgets/controls",
            "layout": "IPY_MODEL_69ddb08ddf0d402888ebf77906921e5e"
          }
        },
        "f70219fbb88246908f25adae0bbed1ea": {
          "model_module": "@jupyter-widgets/controls",
          "model_name": "HTMLModel",
          "state": {
            "_view_name": "HTMLView",
            "style": "IPY_MODEL_2fadd00b48b44994aa566855b02ac1e3",
            "_dom_classes": [],
            "description": "",
            "_model_name": "HTMLModel",
            "placeholder": "​",
            "_view_module": "@jupyter-widgets/controls",
            "_model_module_version": "1.5.0",
            "value": " 3/3 [00:00&lt;00:00, 18.73it/s]",
            "_view_count": null,
            "_view_module_version": "1.5.0",
            "description_tooltip": null,
            "_model_module": "@jupyter-widgets/controls",
            "layout": "IPY_MODEL_b36574472ee648239ca06995e6825af4"
          }
        },
        "fa87b6fa07d34fbebbae8e967cbbd280": {
          "model_module": "@jupyter-widgets/controls",
          "model_name": "ProgressStyleModel",
          "state": {
            "_view_name": "StyleView",
            "_model_name": "ProgressStyleModel",
            "description_width": "initial",
            "_view_module": "@jupyter-widgets/base",
            "_model_module_version": "1.5.0",
            "_view_count": null,
            "_view_module_version": "1.2.0",
            "bar_color": null,
            "_model_module": "@jupyter-widgets/controls"
          }
        },
        "69ddb08ddf0d402888ebf77906921e5e": {
          "model_module": "@jupyter-widgets/base",
          "model_name": "LayoutModel",
          "state": {
            "_view_name": "LayoutView",
            "grid_template_rows": null,
            "right": null,
            "justify_content": null,
            "_view_module": "@jupyter-widgets/base",
            "overflow": null,
            "_model_module_version": "1.2.0",
            "_view_count": null,
            "flex_flow": null,
            "width": null,
            "min_width": null,
            "border": null,
            "align_items": null,
            "bottom": null,
            "_model_module": "@jupyter-widgets/base",
            "top": null,
            "grid_column": null,
            "overflow_y": null,
            "overflow_x": null,
            "grid_auto_flow": null,
            "grid_area": null,
            "grid_template_columns": null,
            "flex": null,
            "_model_name": "LayoutModel",
            "justify_items": null,
            "grid_row": null,
            "max_height": null,
            "align_content": null,
            "visibility": null,
            "align_self": null,
            "height": null,
            "min_height": null,
            "padding": null,
            "grid_auto_rows": null,
            "grid_gap": null,
            "max_width": null,
            "order": null,
            "_view_module_version": "1.2.0",
            "grid_template_areas": null,
            "object_position": null,
            "object_fit": null,
            "grid_auto_columns": null,
            "margin": null,
            "display": null,
            "left": null
          }
        },
        "2fadd00b48b44994aa566855b02ac1e3": {
          "model_module": "@jupyter-widgets/controls",
          "model_name": "DescriptionStyleModel",
          "state": {
            "_view_name": "StyleView",
            "_model_name": "DescriptionStyleModel",
            "description_width": "",
            "_view_module": "@jupyter-widgets/base",
            "_model_module_version": "1.5.0",
            "_view_count": null,
            "_view_module_version": "1.2.0",
            "_model_module": "@jupyter-widgets/controls"
          }
        },
        "b36574472ee648239ca06995e6825af4": {
          "model_module": "@jupyter-widgets/base",
          "model_name": "LayoutModel",
          "state": {
            "_view_name": "LayoutView",
            "grid_template_rows": null,
            "right": null,
            "justify_content": null,
            "_view_module": "@jupyter-widgets/base",
            "overflow": null,
            "_model_module_version": "1.2.0",
            "_view_count": null,
            "flex_flow": null,
            "width": null,
            "min_width": null,
            "border": null,
            "align_items": null,
            "bottom": null,
            "_model_module": "@jupyter-widgets/base",
            "top": null,
            "grid_column": null,
            "overflow_y": null,
            "overflow_x": null,
            "grid_auto_flow": null,
            "grid_area": null,
            "grid_template_columns": null,
            "flex": null,
            "_model_name": "LayoutModel",
            "justify_items": null,
            "grid_row": null,
            "max_height": null,
            "align_content": null,
            "visibility": null,
            "align_self": null,
            "height": null,
            "min_height": null,
            "padding": null,
            "grid_auto_rows": null,
            "grid_gap": null,
            "max_width": null,
            "order": null,
            "_view_module_version": "1.2.0",
            "grid_template_areas": null,
            "object_position": null,
            "object_fit": null,
            "grid_auto_columns": null,
            "margin": null,
            "display": null,
            "left": null
          }
        }
      }
    }
  },
  "cells": [
    {
      "cell_type": "markdown",
      "metadata": {
        "id": "nO8y7Rnaui2x"
      },
      "source": [
        "##GAN&CLIP&GA - CIFAR 10 EVALUATION - USING FINAL IMAGES\n",
        "\n",
        "Authors: Maciej Domagała, Adam Komorowski"
      ]
    },
    {
      "cell_type": "markdown",
      "metadata": {
        "id": "urUX0hTv51l5"
      },
      "source": [
        "### GENERATING IMAGES"
      ]
    },
    {
      "cell_type": "code",
      "metadata": {
        "id": "17hsaaHmiNvp",
        "cellView": "form"
      },
      "source": [
        "#@title Initialization (Installation, Imports) - check github branch!\n",
        "%%capture\n",
        "import subprocess\n",
        "import re\n",
        "\n",
        "nvcc = subprocess.check_output([\"nvcc\", \"--version\"]).decode(\"utf-8\")\n",
        "version = re.findall(\"release (\\d+\\.\\d+)\", nvcc)[0]\n",
        "\n",
        "pytorch_suffix = {\n",
        "    \"10.0\": \"+cu100\",\n",
        "    \"10.1\": \"+cu101\",\n",
        "    \"10.2\": \"\",\n",
        "}\n",
        "\n",
        "pytorch_version = \"1.7.1\" + (pytorch_suffix[version] if version in pytorch_suffix else \"+cu110\")\n",
        "torchvision_version = \"0.8.2\" + (pytorch_suffix[version] if version in pytorch_suffix else \"+cu110\")\n",
        "\n",
        "!git clone https://github.com/maciejdomagala/clip_gans.git\n",
        "%cd clip_gans\n",
        "!git checkout evaluation ### WARNING!!!\n",
        "\n",
        "try:\n",
        "  import torch\n",
        "except:\n",
        "  !pip install torch=={pytorch_version} -f https://download.pytorch.org/whl/torch_stable.html\n",
        "\n",
        "try:\n",
        "  import torchvision\n",
        "except:\n",
        "  !pip install torchvision=={torchvision_version} -f https://download.pytorch.org/whl/torch_stable.html\n",
        "\n",
        "!pip install pytorch_pretrained_biggan pymoo kornia ftfy tensorboard\n",
        "\n",
        "# IMPORTS\n",
        "import warnings\n",
        "\n",
        "import argparse\n",
        "import os\n",
        "import torch\n",
        "import numpy as np\n",
        "import pickle\n",
        "import math\n",
        "from tqdm import tqdm_notebook\n",
        "from pymoo.optimize import minimize\n",
        "from pymoo.algorithms.so_genetic_algorithm import GA\n",
        "from pymoo.factory import get_algorithm, get_decision_making, get_decomposition\n",
        "from pymoo.visualization.scatter import Scatter\n",
        "import torchvision\n",
        "from IPython.display import Image, display\n",
        "import urllib.request\n",
        "import cv2\n",
        "\n",
        "from config import get_config\n",
        "from problem import GenerationProblem\n",
        "from operators import get_operators\n",
        "\n",
        "\n",
        "warnings.filterwarnings('ignore')"
      ],
      "execution_count": null,
      "outputs": []
    },
    {
      "cell_type": "code",
      "metadata": {
        "cellView": "form",
        "id": "hvVgrYTVifvP"
      },
      "source": [
        "#@title Input Parameters (Code will produce (population_size*number_of_loops) evaluation images)\n",
        "target = \"cat\" #@param ['airplane', 'automobile', 'bird', 'cat', 'deer', 'dog', 'frog', 'horse', 'ship', 'truck']\n",
        "config = \"DeepMindBigGAN256\" #@param [\"DeepMindBigGAN256\", \"DeepMindBigGAN512\", \"StyleGAN2_ffhq_nod\", \"StyleGAN2_car_nod\", \"StyleGAN2_church_nod\"]\n",
        "generations =  30#@param {type:\"number\"}\n",
        "population_size = 64 #@param {type:\"number\"}\n",
        "number_of_loops =  3#@param {type:\"number\"}\n",
        "algorithm_param = 'ga' #@param ['ga', 'de']"
      ],
      "execution_count": null,
      "outputs": []
    },
    {
      "cell_type": "code",
      "metadata": {
        "id": "TjbW8w0tkYvt",
        "cellView": "form"
      },
      "source": [
        "#@title Config \n",
        "config = argparse.Namespace(\n",
        "    config=config,\n",
        "    target=target,\n",
        "    device=\"cuda\",\n",
        "    generations=generations,\n",
        "    tmp_folder=\"./results\"\n",
        ")\n",
        "vars(config).update(get_config(config.config))\n",
        "config.pop_size = population_size\n",
        "config.algorithm = algorithm_param\n",
        "config.generations = generations\n",
        "\n",
        "if not os.path.exists(config.tmp_folder): os.mkdir(config.tmp_folder)\n",
        "if not os.path.exists(f'{config.tmp_folder}/{config.target}'): os.mkdir(f'{config.tmp_folder}/{config.target}')\n"
      ],
      "execution_count": null,
      "outputs": []
    },
    {
      "cell_type": "code",
      "metadata": {
        "id": "6ar7SdCbkvJC",
        "cellView": "form"
      },
      "source": [
        "#@title Support methods\n",
        "\n",
        "def save_callback(algorithm):\n",
        "    global config, iteration, loop, target\n",
        "\n",
        "    iteration += 1\n",
        "\n",
        "    sortedpop = sorted(algorithm.pop, key=lambda p: p.F)\n",
        "    X = np.stack([p.X for p in sortedpop])      \n",
        "    ls = config.latent(config)\n",
        "    ls.set_from_population(X)\n",
        "\n",
        "def generate_image(loop: int):\n",
        "  problem = GenerationProblem(config)\n",
        "  operators = get_operators(config)\n",
        "\n",
        "  algorithm = get_algorithm(\n",
        "      config.algorithm,\n",
        "      pop_size=config.pop_size,\n",
        "      sampling=operators[\"sampling\"],\n",
        "      crossover=operators[\"crossover\"],\n",
        "      mutation=operators[\"mutation\"],\n",
        "      eliminate_duplicates=True,\n",
        "      callback=save_callback,\n",
        "      **(config.algorithm_args[config.algorithm] if \"algorithm_args\" in config and config.algorithm in config.algorithm_args else dict())\n",
        "  )\n",
        "\n",
        "  res = minimize(\n",
        "      problem,\n",
        "      algorithm,\n",
        "      (\"n_gen\", config.generations),\n",
        "      save_history=False,\n",
        "      verbose=False,\n",
        "  )\n",
        "  \n",
        "  X = np.atleast_2d(res.X) # for config.n_obj==1\n",
        "  ls = config.latent(config)\n",
        "  ls.set_from_population(X)\n",
        "\n",
        "  with torch.no_grad():\n",
        "      generated = problem.generator.generate(ls)\n",
        "  print(f'Final image for \"{config.target}\" target - loop {loop}.')\n",
        "  problem.generator.save(generated, f\"./{config.tmp_folder}/{config.target}/loop_{loop}.jpg\")\n",
        "  display(Image(f\"./{config.tmp_folder}/{config.target}/loop_{loop}.jpg\"))"
      ],
      "execution_count": null,
      "outputs": []
    },
    {
      "cell_type": "code",
      "metadata": {
        "colab": {
          "base_uri": "https://localhost:8080/",
          "height": 882,
          "referenced_widgets": [
            "aafd8482d5504ddead37c81913f61831",
            "9081c2d1e3a94864bc575256c57b67f3",
            "b436268bd03d4c68acb8b7339a994a04",
            "41cf985949464d7d9e041b59be4d4eee",
            "f4663d0598ac472b85e305c5b399682b",
            "09180da9023e4c0eb30edf6894217107",
            "43e993bfb93d4caaaf5e186a3bae981e",
            "fb73586006f04096a3e2b6a71f01b19b"
          ]
        },
        "id": "VRIYW8CGk4js",
        "cellView": "form",
        "outputId": "43ed6dd6-e333-4ee5-8381-64542e396ead"
      },
      "source": [
        "#@title RUN (GENERATE IMAGES)\n",
        "\n",
        "\n",
        "for loop in tqdm_notebook(range(number_of_loops)):\n",
        "  iteration=0\n",
        "  generate_image(loop)"
      ],
      "execution_count": null,
      "outputs": [
        {
          "output_type": "display_data",
          "data": {
            "application/vnd.jupyter.widget-view+json": {
              "model_id": "aafd8482d5504ddead37c81913f61831",
              "version_minor": 0,
              "version_major": 2
            },
            "text/plain": [
              "HBox(children=(FloatProgress(value=0.0, max=3.0), HTML(value='')))"
            ]
          },
          "metadata": {
            "tags": []
          }
        },
        {
          "output_type": "stream",
          "text": [
            "Final image for \"cat\" target - loop 0.\n"
          ],
          "name": "stdout"
        },
        {
          "output_type": "display_data",
          "data": {
            "image/jpeg": "[encoded data removed]",
            "text/plain": [
              "<IPython.core.display.Image object>"
            ]
          },
          "metadata": {
            "tags": []
          }
        },
        {
          "output_type": "stream",
          "text": [
            "Final image for \"cat\" target - loop 1.\n"
          ],
          "name": "stdout"
        },
        {
          "output_type": "display_data",
          "data": {
            "image/jpeg": "[encoded data removed]",
            "text/plain": [
              "<IPython.core.display.Image object>"
            ]
          },
          "metadata": {
            "tags": []
          }
        },
        {
          "output_type": "stream",
          "text": [
            "Final image for \"cat\" target - loop 2.\n"
          ],
          "name": "stdout"
        },
        {
          "output_type": "display_data",
          "data": {
            "image/jpeg": "[encoded data removed]",
            "text/plain": [
              "<IPython.core.display.Image object>"
            ]
          },
          "metadata": {
            "tags": []
          }
        },
        {
          "output_type": "stream",
          "text": [
            "\n"
          ],
          "name": "stdout"
        }
      ]
    },
    {
      "cell_type": "markdown",
      "metadata": {
        "id": "xLfKongQ5qiy"
      },
      "source": [
        "### CIFAR10 - CLASS EVALUATION"
      ]
    },
    {
      "cell_type": "code",
      "metadata": {
        "cellView": "form",
        "id": "Mixi2VjE5-ZF"
      },
      "source": [
        "#@title Initialization\n",
        "%%capture\n",
        "\n",
        "%cd /content\n",
        "!git clone https://github.com/vrakesh/CIFAR-10-Classifier\n",
        "%cd CIFAR-10-Classifier/\n",
        "\n",
        "from cifar_classifier import cifar_classifier\n",
        "cc = cifar_classifier()\n",
        "model = cc.get_model('cnn')\n",
        "model.load_weights('cifar10.model.cnn.hdf5')\n",
        "cifar10_labels = ['airplane', 'automobile', 'bird', 'cat', 'deer', 'dog', 'frog', 'horse', 'ship', 'truck']"
      ],
      "execution_count": null,
      "outputs": []
    },
    {
      "cell_type": "code",
      "metadata": {
        "colab": {
          "base_uri": "https://localhost:8080/",
          "height": 113,
          "referenced_widgets": [
            "ba2bc32b94f744598673d282d754a604",
            "6686713bccc742b98ac1868aceba08fb",
            "b3532931400c4ec68a074fb8eb7221b2",
            "f70219fbb88246908f25adae0bbed1ea",
            "fa87b6fa07d34fbebbae8e967cbbd280",
            "69ddb08ddf0d402888ebf77906921e5e",
            "2fadd00b48b44994aa566855b02ac1e3",
            "b36574472ee648239ca06995e6825af4"
          ]
        },
        "id": "-k2-FWoCb-aa",
        "cellView": "form",
        "outputId": "7f363ece-2cd4-465b-acf2-344db65c1c78"
      },
      "source": [
        "#@title RUN - EVALUATE CLASS\n",
        "class_to_check = target\n",
        "import PIL\n",
        "list_of_images = []\n",
        "for (dirpath, dirnames, filenames) in os.walk(f'/content/clip_gans/{config.tmp_folder[2:]}/{class_to_check}'):\n",
        "    list_of_images += [os.path.join(dirpath, file) for file in filenames]\n",
        "\n",
        "acc_count = 0\n",
        "for image_path in tqdm_notebook(list_of_images):\n",
        "  im = (PIL.Image.open(image_path))\n",
        "  im = im.resize((32, 32))\n",
        "  im = np.expand_dims(im, 0)\n",
        "  y_hat = model.predict(im)\n",
        "  predicted_label = cifar10_labels[np.argmax(y_hat[0])]\n",
        "  if predicted_label==class_to_check:\n",
        "    acc_count += 1\n",
        "print(f'\\nAccuracy for {class_to_check.upper()} class: {round(acc_count/len(list_of_images)*100, 2)}%, ({acc_count}/{len(list_of_images)})')\n",
        "print(f'Number of evaluated images: {len(list_of_images)}')"
      ],
      "execution_count": null,
      "outputs": [
        {
          "output_type": "display_data",
          "data": {
            "application/vnd.jupyter.widget-view+json": {
              "model_id": "ba2bc32b94f744598673d282d754a604",
              "version_minor": 0,
              "version_major": 2
            },
            "text/plain": [
              "HBox(children=(FloatProgress(value=0.0, max=3.0), HTML(value='')))"
            ]
          },
          "metadata": {
            "tags": []
          }
        },
        {
          "output_type": "stream",
          "text": [
            "\n",
            "\n",
            "Accuracy for CAT class: 33.33%, (1/3)\n",
            "Number of evaluated images: 3\n"
          ],
          "name": "stdout"
        }
      ]
    }
  ]
}