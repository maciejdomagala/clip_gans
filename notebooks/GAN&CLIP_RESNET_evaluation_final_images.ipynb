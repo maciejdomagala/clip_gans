{
  "nbformat": 4,
  "nbformat_minor": 0,
  "metadata": {
    "colab": {
      "name": "GAN&CLIP_RESNET_evaluation_final_images.ipynb",
      "provenance": [],
      "collapsed_sections": [],
      "toc_visible": true
    },
    "kernelspec": {
      "name": "python3",
      "display_name": "Python 3"
    },
    "language_info": {
      "name": "python"
    },
    "accelerator": "GPU",
    "widgets": {
      "application/vnd.jupyter.widget-state+json": {
        "94e7668283fe4ffea401cf1a2995ab2b": {
          "model_module": "@jupyter-widgets/controls",
          "model_name": "HBoxModel",
          "state": {
            "_view_name": "HBoxView",
            "_dom_classes": [],
            "_model_name": "HBoxModel",
            "_view_module": "@jupyter-widgets/controls",
            "_model_module_version": "1.5.0",
            "_view_count": null,
            "_view_module_version": "1.5.0",
            "box_style": "",
            "layout": "IPY_MODEL_a03f28cb9e63429ba73e141a76984290",
            "_model_module": "@jupyter-widgets/controls",
            "children": [
              "IPY_MODEL_45a437dd5b3344ef8cbef547c1ebe589",
              "IPY_MODEL_5909cdac93704a16bc78c42509667f13"
            ]
          }
        },
        "a03f28cb9e63429ba73e141a76984290": {
          "model_module": "@jupyter-widgets/base",
          "model_name": "LayoutModel",
          "state": {
            "_view_name": "LayoutView",
            "grid_template_rows": null,
            "right": null,
            "justify_content": null,
            "_view_module": "@jupyter-widgets/base",
            "overflow": null,
            "_model_module_version": "1.2.0",
            "_view_count": null,
            "flex_flow": null,
            "width": null,
            "min_width": null,
            "border": null,
            "align_items": null,
            "bottom": null,
            "_model_module": "@jupyter-widgets/base",
            "top": null,
            "grid_column": null,
            "overflow_y": null,
            "overflow_x": null,
            "grid_auto_flow": null,
            "grid_area": null,
            "grid_template_columns": null,
            "flex": null,
            "_model_name": "LayoutModel",
            "justify_items": null,
            "grid_row": null,
            "max_height": null,
            "align_content": null,
            "visibility": null,
            "align_self": null,
            "height": null,
            "min_height": null,
            "padding": null,
            "grid_auto_rows": null,
            "grid_gap": null,
            "max_width": null,
            "order": null,
            "_view_module_version": "1.2.0",
            "grid_template_areas": null,
            "object_position": null,
            "object_fit": null,
            "grid_auto_columns": null,
            "margin": null,
            "display": null,
            "left": null
          }
        },
        "45a437dd5b3344ef8cbef547c1ebe589": {
          "model_module": "@jupyter-widgets/controls",
          "model_name": "FloatProgressModel",
          "state": {
            "_view_name": "ProgressView",
            "style": "IPY_MODEL_cb0dedcd63af476cbd393f7993016f91",
            "_dom_classes": [],
            "description": "100%",
            "_model_name": "FloatProgressModel",
            "bar_style": "success",
            "max": 1,
            "_view_module": "@jupyter-widgets/controls",
            "_model_module_version": "1.5.0",
            "value": 1,
            "_view_count": null,
            "_view_module_version": "1.5.0",
            "orientation": "horizontal",
            "min": 0,
            "description_tooltip": null,
            "_model_module": "@jupyter-widgets/controls",
            "layout": "IPY_MODEL_babe3560fcc340af9795e307114525ff"
          }
        },
        "5909cdac93704a16bc78c42509667f13": {
          "model_module": "@jupyter-widgets/controls",
          "model_name": "HTMLModel",
          "state": {
            "_view_name": "HTMLView",
            "style": "IPY_MODEL_4757b934b73448bebccfaefe8faa56c3",
            "_dom_classes": [],
            "description": "",
            "_model_name": "HTMLModel",
            "placeholder": "​",
            "_view_module": "@jupyter-widgets/controls",
            "_model_module_version": "1.5.0",
            "value": " 1/1 [01:44&lt;00:00, 104.36s/it]",
            "_view_count": null,
            "_view_module_version": "1.5.0",
            "description_tooltip": null,
            "_model_module": "@jupyter-widgets/controls",
            "layout": "IPY_MODEL_5202bab9bb4046a9ade41e783a234f0d"
          }
        },
        "cb0dedcd63af476cbd393f7993016f91": {
          "model_module": "@jupyter-widgets/controls",
          "model_name": "ProgressStyleModel",
          "state": {
            "_view_name": "StyleView",
            "_model_name": "ProgressStyleModel",
            "description_width": "initial",
            "_view_module": "@jupyter-widgets/base",
            "_model_module_version": "1.5.0",
            "_view_count": null,
            "_view_module_version": "1.2.0",
            "bar_color": null,
            "_model_module": "@jupyter-widgets/controls"
          }
        },
        "babe3560fcc340af9795e307114525ff": {
          "model_module": "@jupyter-widgets/base",
          "model_name": "LayoutModel",
          "state": {
            "_view_name": "LayoutView",
            "grid_template_rows": null,
            "right": null,
            "justify_content": null,
            "_view_module": "@jupyter-widgets/base",
            "overflow": null,
            "_model_module_version": "1.2.0",
            "_view_count": null,
            "flex_flow": null,
            "width": null,
            "min_width": null,
            "border": null,
            "align_items": null,
            "bottom": null,
            "_model_module": "@jupyter-widgets/base",
            "top": null,
            "grid_column": null,
            "overflow_y": null,
            "overflow_x": null,
            "grid_auto_flow": null,
            "grid_area": null,
            "grid_template_columns": null,
            "flex": null,
            "_model_name": "LayoutModel",
            "justify_items": null,
            "grid_row": null,
            "max_height": null,
            "align_content": null,
            "visibility": null,
            "align_self": null,
            "height": null,
            "min_height": null,
            "padding": null,
            "grid_auto_rows": null,
            "grid_gap": null,
            "max_width": null,
            "order": null,
            "_view_module_version": "1.2.0",
            "grid_template_areas": null,
            "object_position": null,
            "object_fit": null,
            "grid_auto_columns": null,
            "margin": null,
            "display": null,
            "left": null
          }
        },
        "4757b934b73448bebccfaefe8faa56c3": {
          "model_module": "@jupyter-widgets/controls",
          "model_name": "DescriptionStyleModel",
          "state": {
            "_view_name": "StyleView",
            "_model_name": "DescriptionStyleModel",
            "description_width": "",
            "_view_module": "@jupyter-widgets/base",
            "_model_module_version": "1.5.0",
            "_view_count": null,
            "_view_module_version": "1.2.0",
            "_model_module": "@jupyter-widgets/controls"
          }
        },
        "5202bab9bb4046a9ade41e783a234f0d": {
          "model_module": "@jupyter-widgets/base",
          "model_name": "LayoutModel",
          "state": {
            "_view_name": "LayoutView",
            "grid_template_rows": null,
            "right": null,
            "justify_content": null,
            "_view_module": "@jupyter-widgets/base",
            "overflow": null,
            "_model_module_version": "1.2.0",
            "_view_count": null,
            "flex_flow": null,
            "width": null,
            "min_width": null,
            "border": null,
            "align_items": null,
            "bottom": null,
            "_model_module": "@jupyter-widgets/base",
            "top": null,
            "grid_column": null,
            "overflow_y": null,
            "overflow_x": null,
            "grid_auto_flow": null,
            "grid_area": null,
            "grid_template_columns": null,
            "flex": null,
            "_model_name": "LayoutModel",
            "justify_items": null,
            "grid_row": null,
            "max_height": null,
            "align_content": null,
            "visibility": null,
            "align_self": null,
            "height": null,
            "min_height": null,
            "padding": null,
            "grid_auto_rows": null,
            "grid_gap": null,
            "max_width": null,
            "order": null,
            "_view_module_version": "1.2.0",
            "grid_template_areas": null,
            "object_position": null,
            "object_fit": null,
            "grid_auto_columns": null,
            "margin": null,
            "display": null,
            "left": null
          }
        },
        "1e45d199afe04f518967dead99554f81": {
          "model_module": "@jupyter-widgets/controls",
          "model_name": "HBoxModel",
          "state": {
            "_view_name": "HBoxView",
            "_dom_classes": [],
            "_model_name": "HBoxModel",
            "_view_module": "@jupyter-widgets/controls",
            "_model_module_version": "1.5.0",
            "_view_count": null,
            "_view_module_version": "1.5.0",
            "box_style": "",
            "layout": "IPY_MODEL_1bf186a419b44487bf975a845463d5f8",
            "_model_module": "@jupyter-widgets/controls",
            "children": [
              "IPY_MODEL_4df5190d9b144b0d961a1a0196aef50e",
              "IPY_MODEL_d9332ca1ed144d5391950fb3188da8c3"
            ]
          }
        },
        "1bf186a419b44487bf975a845463d5f8": {
          "model_module": "@jupyter-widgets/base",
          "model_name": "LayoutModel",
          "state": {
            "_view_name": "LayoutView",
            "grid_template_rows": null,
            "right": null,
            "justify_content": null,
            "_view_module": "@jupyter-widgets/base",
            "overflow": null,
            "_model_module_version": "1.2.0",
            "_view_count": null,
            "flex_flow": null,
            "width": null,
            "min_width": null,
            "border": null,
            "align_items": null,
            "bottom": null,
            "_model_module": "@jupyter-widgets/base",
            "top": null,
            "grid_column": null,
            "overflow_y": null,
            "overflow_x": null,
            "grid_auto_flow": null,
            "grid_area": null,
            "grid_template_columns": null,
            "flex": null,
            "_model_name": "LayoutModel",
            "justify_items": null,
            "grid_row": null,
            "max_height": null,
            "align_content": null,
            "visibility": null,
            "align_self": null,
            "height": null,
            "min_height": null,
            "padding": null,
            "grid_auto_rows": null,
            "grid_gap": null,
            "max_width": null,
            "order": null,
            "_view_module_version": "1.2.0",
            "grid_template_areas": null,
            "object_position": null,
            "object_fit": null,
            "grid_auto_columns": null,
            "margin": null,
            "display": null,
            "left": null
          }
        },
        "4df5190d9b144b0d961a1a0196aef50e": {
          "model_module": "@jupyter-widgets/controls",
          "model_name": "FloatProgressModel",
          "state": {
            "_view_name": "ProgressView",
            "style": "IPY_MODEL_46801826c26147f0b8f8a85444e89cc7",
            "_dom_classes": [],
            "description": "100%",
            "_model_name": "FloatProgressModel",
            "bar_style": "success",
            "max": 1,
            "_view_module": "@jupyter-widgets/controls",
            "_model_module_version": "1.5.0",
            "value": 1,
            "_view_count": null,
            "_view_module_version": "1.5.0",
            "orientation": "horizontal",
            "min": 0,
            "description_tooltip": null,
            "_model_module": "@jupyter-widgets/controls",
            "layout": "IPY_MODEL_66b035b5dcc64558ac8b21dc300844aa"
          }
        },
        "d9332ca1ed144d5391950fb3188da8c3": {
          "model_module": "@jupyter-widgets/controls",
          "model_name": "HTMLModel",
          "state": {
            "_view_name": "HTMLView",
            "style": "IPY_MODEL_175afaf800f248cbb86ab75058d599e6",
            "_dom_classes": [],
            "description": "",
            "_model_name": "HTMLModel",
            "placeholder": "​",
            "_view_module": "@jupyter-widgets/controls",
            "_model_module_version": "1.5.0",
            "value": " 1/1 [00:00&lt;00:00,  6.33it/s]",
            "_view_count": null,
            "_view_module_version": "1.5.0",
            "description_tooltip": null,
            "_model_module": "@jupyter-widgets/controls",
            "layout": "IPY_MODEL_24c89bebab314da8a1799f55b68a62f9"
          }
        },
        "46801826c26147f0b8f8a85444e89cc7": {
          "model_module": "@jupyter-widgets/controls",
          "model_name": "ProgressStyleModel",
          "state": {
            "_view_name": "StyleView",
            "_model_name": "ProgressStyleModel",
            "description_width": "initial",
            "_view_module": "@jupyter-widgets/base",
            "_model_module_version": "1.5.0",
            "_view_count": null,
            "_view_module_version": "1.2.0",
            "bar_color": null,
            "_model_module": "@jupyter-widgets/controls"
          }
        },
        "66b035b5dcc64558ac8b21dc300844aa": {
          "model_module": "@jupyter-widgets/base",
          "model_name": "LayoutModel",
          "state": {
            "_view_name": "LayoutView",
            "grid_template_rows": null,
            "right": null,
            "justify_content": null,
            "_view_module": "@jupyter-widgets/base",
            "overflow": null,
            "_model_module_version": "1.2.0",
            "_view_count": null,
            "flex_flow": null,
            "width": null,
            "min_width": null,
            "border": null,
            "align_items": null,
            "bottom": null,
            "_model_module": "@jupyter-widgets/base",
            "top": null,
            "grid_column": null,
            "overflow_y": null,
            "overflow_x": null,
            "grid_auto_flow": null,
            "grid_area": null,
            "grid_template_columns": null,
            "flex": null,
            "_model_name": "LayoutModel",
            "justify_items": null,
            "grid_row": null,
            "max_height": null,
            "align_content": null,
            "visibility": null,
            "align_self": null,
            "height": null,
            "min_height": null,
            "padding": null,
            "grid_auto_rows": null,
            "grid_gap": null,
            "max_width": null,
            "order": null,
            "_view_module_version": "1.2.0",
            "grid_template_areas": null,
            "object_position": null,
            "object_fit": null,
            "grid_auto_columns": null,
            "margin": null,
            "display": null,
            "left": null
          }
        },
        "175afaf800f248cbb86ab75058d599e6": {
          "model_module": "@jupyter-widgets/controls",
          "model_name": "DescriptionStyleModel",
          "state": {
            "_view_name": "StyleView",
            "_model_name": "DescriptionStyleModel",
            "description_width": "",
            "_view_module": "@jupyter-widgets/base",
            "_model_module_version": "1.5.0",
            "_view_count": null,
            "_view_module_version": "1.2.0",
            "_model_module": "@jupyter-widgets/controls"
          }
        },
        "24c89bebab314da8a1799f55b68a62f9": {
          "model_module": "@jupyter-widgets/base",
          "model_name": "LayoutModel",
          "state": {
            "_view_name": "LayoutView",
            "grid_template_rows": null,
            "right": null,
            "justify_content": null,
            "_view_module": "@jupyter-widgets/base",
            "overflow": null,
            "_model_module_version": "1.2.0",
            "_view_count": null,
            "flex_flow": null,
            "width": null,
            "min_width": null,
            "border": null,
            "align_items": null,
            "bottom": null,
            "_model_module": "@jupyter-widgets/base",
            "top": null,
            "grid_column": null,
            "overflow_y": null,
            "overflow_x": null,
            "grid_auto_flow": null,
            "grid_area": null,
            "grid_template_columns": null,
            "flex": null,
            "_model_name": "LayoutModel",
            "justify_items": null,
            "grid_row": null,
            "max_height": null,
            "align_content": null,
            "visibility": null,
            "align_self": null,
            "height": null,
            "min_height": null,
            "padding": null,
            "grid_auto_rows": null,
            "grid_gap": null,
            "max_width": null,
            "order": null,
            "_view_module_version": "1.2.0",
            "grid_template_areas": null,
            "object_position": null,
            "object_fit": null,
            "grid_auto_columns": null,
            "margin": null,
            "display": null,
            "left": null
          }
        }
      }
    }
  },
  "cells": [
    {
      "cell_type": "markdown",
      "metadata": {
        "id": "nO8y7Rnaui2x"
      },
      "source": [
        "##GAN&CLIP&GA - IMAGENET EVALUATION - USING FINAL IMAGES\n",
        "\n",
        "Authors: Maciej Domagała, Adam Komorowski"
      ]
    },
    {
      "cell_type": "markdown",
      "metadata": {
        "id": "urUX0hTv51l5"
      },
      "source": [
        "### GENERATING IMAGES"
      ]
    },
    {
      "cell_type": "code",
      "metadata": {
        "id": "17hsaaHmiNvp"
      },
      "source": [
        "#@title Initialization (Installation, Imports) - check github branch!\n",
        "%%capture\n",
        "import subprocess\n",
        "import re\n",
        "\n",
        "nvcc = subprocess.check_output([\"nvcc\", \"--version\"]).decode(\"utf-8\")\n",
        "version = re.findall(\"release (\\d+\\.\\d+)\", nvcc)[0]\n",
        "\n",
        "pytorch_suffix = {\n",
        "    \"10.0\": \"+cu100\",\n",
        "    \"10.1\": \"+cu101\",\n",
        "    \"10.2\": \"\",\n",
        "}\n",
        "\n",
        "pytorch_version = \"1.7.1\" + (pytorch_suffix[version] if version in pytorch_suffix else \"+cu110\")\n",
        "torchvision_version = \"0.8.2\" + (pytorch_suffix[version] if version in pytorch_suffix else \"+cu110\")\n",
        "\n",
        "!wget https://raw.githubusercontent.com/pytorch/hub/master/imagenet_classes.txt #imagenet_classes\n",
        "\n",
        "!git clone https://github.com/maciejdomagala/clip_gans.git\n",
        "%cd clip_gans\n",
        "!git checkout main ### WARNING!!!\n",
        "\n",
        "try:\n",
        "  import torch\n",
        "except:\n",
        "  !pip install torch=={pytorch_version} -f https://download.pytorch.org/whl/torch_stable.html\n",
        "\n",
        "try:\n",
        "  import torchvision\n",
        "except:\n",
        "  !pip install torchvision=={torchvision_version} -f https://download.pytorch.org/whl/torch_stable.html\n",
        "\n",
        "!pip install pytorch_pretrained_biggan pymoo kornia ftfy tensorboard\n",
        "\n",
        "# IMPORTS\n",
        "import warnings\n",
        "\n",
        "import argparse\n",
        "import os\n",
        "import torch\n",
        "import numpy as np\n",
        "import pickle\n",
        "import math\n",
        "from tqdm import tqdm_notebook\n",
        "from pymoo.optimize import minimize\n",
        "from pymoo.algorithms.so_genetic_algorithm import GA\n",
        "from pymoo.factory import get_algorithm, get_decision_making, get_decomposition\n",
        "from pymoo.visualization.scatter import Scatter\n",
        "import torchvision\n",
        "from IPython.display import Image, display\n",
        "import urllib.request\n",
        "import cv2\n",
        "\n",
        "from config import get_config\n",
        "from problem import GenerationProblem\n",
        "from operators import get_operators, get_algo\n",
        "\n",
        "\n",
        "warnings.filterwarnings('ignore')"
      ],
      "execution_count": 1,
      "outputs": []
    },
    {
      "cell_type": "code",
      "metadata": {
        "colab": {
          "base_uri": "https://localhost:8080/"
        },
        "id": "bxXiFNHtStvX",
        "outputId": "dab2c748-4037-4a46-a386-e7b8db50a8f7"
      },
      "source": [
        "# CHOOSE ONE OF THE IMAGENET CLASSES AND PASTE IN THE \"TARGET\" FIELD BELOW\n",
        "with open(\"/content/imagenet_classes.txt\", \"r\") as f:\n",
        "  categories = [s.strip() for s in f.readlines()]\n",
        "print(categories)"
      ],
      "execution_count": 2,
      "outputs": [
        {
          "output_type": "stream",
          "text": [
            "['tench', 'goldfish', 'great white shark', 'tiger shark', 'hammerhead', 'electric ray', 'stingray', 'cock', 'hen', 'ostrich', 'brambling', 'goldfinch', 'house finch', 'junco', 'indigo bunting', 'robin', 'bulbul', 'jay', 'magpie', 'chickadee', 'water ouzel', 'kite', 'bald eagle', 'vulture', 'great grey owl', 'European fire salamander', 'common newt', 'eft', 'spotted salamander', 'axolotl', 'bullfrog', 'tree frog', 'tailed frog', 'loggerhead', 'leatherback turtle', 'mud turtle', 'terrapin', 'box turtle', 'banded gecko', 'common iguana', 'American chameleon', 'whiptail', 'agama', 'frilled lizard', 'alligator lizard', 'Gila monster', 'green lizard', 'African chameleon', 'Komodo dragon', 'African crocodile', 'American alligator', 'triceratops', 'thunder snake', 'ringneck snake', 'hognose snake', 'green snake', 'king snake', 'garter snake', 'water snake', 'vine snake', 'night snake', 'boa constrictor', 'rock python', 'Indian cobra', 'green mamba', 'sea snake', 'horned viper', 'diamondback', 'sidewinder', 'trilobite', 'harvestman', 'scorpion', 'black and gold garden spider', 'barn spider', 'garden spider', 'black widow', 'tarantula', 'wolf spider', 'tick', 'centipede', 'black grouse', 'ptarmigan', 'ruffed grouse', 'prairie chicken', 'peacock', 'quail', 'partridge', 'African grey', 'macaw', 'sulphur-crested cockatoo', 'lorikeet', 'coucal', 'bee eater', 'hornbill', 'hummingbird', 'jacamar', 'toucan', 'drake', 'red-breasted merganser', 'goose', 'black swan', 'tusker', 'echidna', 'platypus', 'wallaby', 'koala', 'wombat', 'jellyfish', 'sea anemone', 'brain coral', 'flatworm', 'nematode', 'conch', 'snail', 'slug', 'sea slug', 'chiton', 'chambered nautilus', 'Dungeness crab', 'rock crab', 'fiddler crab', 'king crab', 'American lobster', 'spiny lobster', 'crayfish', 'hermit crab', 'isopod', 'white stork', 'black stork', 'spoonbill', 'flamingo', 'little blue heron', 'American egret', 'bittern', 'crane', 'limpkin', 'European gallinule', 'American coot', 'bustard', 'ruddy turnstone', 'red-backed sandpiper', 'redshank', 'dowitcher', 'oystercatcher', 'pelican', 'king penguin', 'albatross', 'grey whale', 'killer whale', 'dugong', 'sea lion', 'Chihuahua', 'Japanese spaniel', 'Maltese dog', 'Pekinese', 'Shih-Tzu', 'Blenheim spaniel', 'papillon', 'toy terrier', 'Rhodesian ridgeback', 'Afghan hound', 'basset', 'beagle', 'bloodhound', 'bluetick', 'black-and-tan coonhound', 'Walker hound', 'English foxhound', 'redbone', 'borzoi', 'Irish wolfhound', 'Italian greyhound', 'whippet', 'Ibizan hound', 'Norwegian elkhound', 'otterhound', 'Saluki', 'Scottish deerhound', 'Weimaraner', 'Staffordshire bullterrier', 'American Staffordshire terrier', 'Bedlington terrier', 'Border terrier', 'Kerry blue terrier', 'Irish terrier', 'Norfolk terrier', 'Norwich terrier', 'Yorkshire terrier', 'wire-haired fox terrier', 'Lakeland terrier', 'Sealyham terrier', 'Airedale', 'cairn', 'Australian terrier', 'Dandie Dinmont', 'Boston bull', 'miniature schnauzer', 'giant schnauzer', 'standard schnauzer', 'Scotch terrier', 'Tibetan terrier', 'silky terrier', 'soft-coated wheaten terrier', 'West Highland white terrier', 'Lhasa', 'flat-coated retriever', 'curly-coated retriever', 'golden retriever', 'Labrador retriever', 'Chesapeake Bay retriever', 'German short-haired pointer', 'vizsla', 'English setter', 'Irish setter', 'Gordon setter', 'Brittany spaniel', 'clumber', 'English springer', 'Welsh springer spaniel', 'cocker spaniel', 'Sussex spaniel', 'Irish water spaniel', 'kuvasz', 'schipperke', 'groenendael', 'malinois', 'briard', 'kelpie', 'komondor', 'Old English sheepdog', 'Shetland sheepdog', 'collie', 'Border collie', 'Bouvier des Flandres', 'Rottweiler', 'German shepherd', 'Doberman', 'miniature pinscher', 'Greater Swiss Mountain dog', 'Bernese mountain dog', 'Appenzeller', 'EntleBucher', 'boxer', 'bull mastiff', 'Tibetan mastiff', 'French bulldog', 'Great Dane', 'Saint Bernard', 'Eskimo dog', 'malamute', 'Siberian husky', 'dalmatian', 'affenpinscher', 'basenji', 'pug', 'Leonberg', 'Newfoundland', 'Great Pyrenees', 'Samoyed', 'Pomeranian', 'chow', 'keeshond', 'Brabancon griffon', 'Pembroke', 'Cardigan', 'toy poodle', 'miniature poodle', 'standard poodle', 'Mexican hairless', 'timber wolf', 'white wolf', 'red wolf', 'coyote', 'dingo', 'dhole', 'African hunting dog', 'hyena', 'red fox', 'kit fox', 'Arctic fox', 'grey fox', 'tabby', 'tiger cat', 'Persian cat', 'Siamese cat', 'Egyptian cat', 'cougar', 'lynx', 'leopard', 'snow leopard', 'jaguar', 'lion', 'tiger', 'cheetah', 'brown bear', 'American black bear', 'ice bear', 'sloth bear', 'mongoose', 'meerkat', 'tiger beetle', 'ladybug', 'ground beetle', 'long-horned beetle', 'leaf beetle', 'dung beetle', 'rhinoceros beetle', 'weevil', 'fly', 'bee', 'ant', 'grasshopper', 'cricket', 'walking stick', 'cockroach', 'mantis', 'cicada', 'leafhopper', 'lacewing', 'dragonfly', 'damselfly', 'admiral', 'ringlet', 'monarch', 'cabbage butterfly', 'sulphur butterfly', 'lycaenid', 'starfish', 'sea urchin', 'sea cucumber', 'wood rabbit', 'hare', 'Angora', 'hamster', 'porcupine', 'fox squirrel', 'marmot', 'beaver', 'guinea pig', 'sorrel', 'zebra', 'hog', 'wild boar', 'warthog', 'hippopotamus', 'ox', 'water buffalo', 'bison', 'ram', 'bighorn', 'ibex', 'hartebeest', 'impala', 'gazelle', 'Arabian camel', 'llama', 'weasel', 'mink', 'polecat', 'black-footed ferret', 'otter', 'skunk', 'badger', 'armadillo', 'three-toed sloth', 'orangutan', 'gorilla', 'chimpanzee', 'gibbon', 'siamang', 'guenon', 'patas', 'baboon', 'macaque', 'langur', 'colobus', 'proboscis monkey', 'marmoset', 'capuchin', 'howler monkey', 'titi', 'spider monkey', 'squirrel monkey', 'Madagascar cat', 'indri', 'Indian elephant', 'African elephant', 'lesser panda', 'giant panda', 'barracouta', 'eel', 'coho', 'rock beauty', 'anemone fish', 'sturgeon', 'gar', 'lionfish', 'puffer', 'abacus', 'abaya', 'academic gown', 'accordion', 'acoustic guitar', 'aircraft carrier', 'airliner', 'airship', 'altar', 'ambulance', 'amphibian', 'analog clock', 'apiary', 'apron', 'ashcan', 'assault rifle', 'backpack', 'bakery', 'balance beam', 'balloon', 'ballpoint', 'Band Aid', 'banjo', 'bannister', 'barbell', 'barber chair', 'barbershop', 'barn', 'barometer', 'barrel', 'barrow', 'baseball', 'basketball', 'bassinet', 'bassoon', 'bathing cap', 'bath towel', 'bathtub', 'beach wagon', 'beacon', 'beaker', 'bearskin', 'beer bottle', 'beer glass', 'bell cote', 'bib', 'bicycle-built-for-two', 'bikini', 'binder', 'binoculars', 'birdhouse', 'boathouse', 'bobsled', 'bolo tie', 'bonnet', 'bookcase', 'bookshop', 'bottlecap', 'bow', 'bow tie', 'brass', 'brassiere', 'breakwater', 'breastplate', 'broom', 'bucket', 'buckle', 'bulletproof vest', 'bullet train', 'butcher shop', 'cab', 'caldron', 'candle', 'cannon', 'canoe', 'can opener', 'cardigan', 'car mirror', 'carousel', \"carpenter's kit\", 'carton', 'car wheel', 'cash machine', 'cassette', 'cassette player', 'castle', 'catamaran', 'CD player', 'cello', 'cellular telephone', 'chain', 'chainlink fence', 'chain mail', 'chain saw', 'chest', 'chiffonier', 'chime', 'china cabinet', 'Christmas stocking', 'church', 'cinema', 'cleaver', 'cliff dwelling', 'cloak', 'clog', 'cocktail shaker', 'coffee mug', 'coffeepot', 'coil', 'combination lock', 'computer keyboard', 'confectionery', 'container ship', 'convertible', 'corkscrew', 'cornet', 'cowboy boot', 'cowboy hat', 'cradle', 'crane', 'crash helmet', 'crate', 'crib', 'Crock Pot', 'croquet ball', 'crutch', 'cuirass', 'dam', 'desk', 'desktop computer', 'dial telephone', 'diaper', 'digital clock', 'digital watch', 'dining table', 'dishrag', 'dishwasher', 'disk brake', 'dock', 'dogsled', 'dome', 'doormat', 'drilling platform', 'drum', 'drumstick', 'dumbbell', 'Dutch oven', 'electric fan', 'electric guitar', 'electric locomotive', 'entertainment center', 'envelope', 'espresso maker', 'face powder', 'feather boa', 'file', 'fireboat', 'fire engine', 'fire screen', 'flagpole', 'flute', 'folding chair', 'football helmet', 'forklift', 'fountain', 'fountain pen', 'four-poster', 'freight car', 'French horn', 'frying pan', 'fur coat', 'garbage truck', 'gasmask', 'gas pump', 'goblet', 'go-kart', 'golf ball', 'golfcart', 'gondola', 'gong', 'gown', 'grand piano', 'greenhouse', 'grille', 'grocery store', 'guillotine', 'hair slide', 'hair spray', 'half track', 'hammer', 'hamper', 'hand blower', 'hand-held computer', 'handkerchief', 'hard disc', 'harmonica', 'harp', 'harvester', 'hatchet', 'holster', 'home theater', 'honeycomb', 'hook', 'hoopskirt', 'horizontal bar', 'horse cart', 'hourglass', 'iPod', 'iron', \"jack-o'-lantern\", 'jean', 'jeep', 'jersey', 'jigsaw puzzle', 'jinrikisha', 'joystick', 'kimono', 'knee pad', 'knot', 'lab coat', 'ladle', 'lampshade', 'laptop', 'lawn mower', 'lens cap', 'letter opener', 'library', 'lifeboat', 'lighter', 'limousine', 'liner', 'lipstick', 'Loafer', 'lotion', 'loudspeaker', 'loupe', 'lumbermill', 'magnetic compass', 'mailbag', 'mailbox', 'maillot', 'maillot', 'manhole cover', 'maraca', 'marimba', 'mask', 'matchstick', 'maypole', 'maze', 'measuring cup', 'medicine chest', 'megalith', 'microphone', 'microwave', 'military uniform', 'milk can', 'minibus', 'miniskirt', 'minivan', 'missile', 'mitten', 'mixing bowl', 'mobile home', 'Model T', 'modem', 'monastery', 'monitor', 'moped', 'mortar', 'mortarboard', 'mosque', 'mosquito net', 'motor scooter', 'mountain bike', 'mountain tent', 'mouse', 'mousetrap', 'moving van', 'muzzle', 'nail', 'neck brace', 'necklace', 'nipple', 'notebook', 'obelisk', 'oboe', 'ocarina', 'odometer', 'oil filter', 'organ', 'oscilloscope', 'overskirt', 'oxcart', 'oxygen mask', 'packet', 'paddle', 'paddlewheel', 'padlock', 'paintbrush', 'pajama', 'palace', 'panpipe', 'paper towel', 'parachute', 'parallel bars', 'park bench', 'parking meter', 'passenger car', 'patio', 'pay-phone', 'pedestal', 'pencil box', 'pencil sharpener', 'perfume', 'Petri dish', 'photocopier', 'pick', 'pickelhaube', 'picket fence', 'pickup', 'pier', 'piggy bank', 'pill bottle', 'pillow', 'ping-pong ball', 'pinwheel', 'pirate', 'pitcher', 'plane', 'planetarium', 'plastic bag', 'plate rack', 'plow', 'plunger', 'Polaroid camera', 'pole', 'police van', 'poncho', 'pool table', 'pop bottle', 'pot', \"potter's wheel\", 'power drill', 'prayer rug', 'printer', 'prison', 'projectile', 'projector', 'puck', 'punching bag', 'purse', 'quill', 'quilt', 'racer', 'racket', 'radiator', 'radio', 'radio telescope', 'rain barrel', 'recreational vehicle', 'reel', 'reflex camera', 'refrigerator', 'remote control', 'restaurant', 'revolver', 'rifle', 'rocking chair', 'rotisserie', 'rubber eraser', 'rugby ball', 'rule', 'running shoe', 'safe', 'safety pin', 'saltshaker', 'sandal', 'sarong', 'sax', 'scabbard', 'scale', 'school bus', 'schooner', 'scoreboard', 'screen', 'screw', 'screwdriver', 'seat belt', 'sewing machine', 'shield', 'shoe shop', 'shoji', 'shopping basket', 'shopping cart', 'shovel', 'shower cap', 'shower curtain', 'ski', 'ski mask', 'sleeping bag', 'slide rule', 'sliding door', 'slot', 'snorkel', 'snowmobile', 'snowplow', 'soap dispenser', 'soccer ball', 'sock', 'solar dish', 'sombrero', 'soup bowl', 'space bar', 'space heater', 'space shuttle', 'spatula', 'speedboat', 'spider web', 'spindle', 'sports car', 'spotlight', 'stage', 'steam locomotive', 'steel arch bridge', 'steel drum', 'stethoscope', 'stole', 'stone wall', 'stopwatch', 'stove', 'strainer', 'streetcar', 'stretcher', 'studio couch', 'stupa', 'submarine', 'suit', 'sundial', 'sunglass', 'sunglasses', 'sunscreen', 'suspension bridge', 'swab', 'sweatshirt', 'swimming trunks', 'swing', 'switch', 'syringe', 'table lamp', 'tank', 'tape player', 'teapot', 'teddy', 'television', 'tennis ball', 'thatch', 'theater curtain', 'thimble', 'thresher', 'throne', 'tile roof', 'toaster', 'tobacco shop', 'toilet seat', 'torch', 'totem pole', 'tow truck', 'toyshop', 'tractor', 'trailer truck', 'tray', 'trench coat', 'tricycle', 'trimaran', 'tripod', 'triumphal arch', 'trolleybus', 'trombone', 'tub', 'turnstile', 'typewriter keyboard', 'umbrella', 'unicycle', 'upright', 'vacuum', 'vase', 'vault', 'velvet', 'vending machine', 'vestment', 'viaduct', 'violin', 'volleyball', 'waffle iron', 'wall clock', 'wallet', 'wardrobe', 'warplane', 'washbasin', 'washer', 'water bottle', 'water jug', 'water tower', 'whiskey jug', 'whistle', 'wig', 'window screen', 'window shade', 'Windsor tie', 'wine bottle', 'wing', 'wok', 'wooden spoon', 'wool', 'worm fence', 'wreck', 'yawl', 'yurt', 'web site', 'comic book', 'crossword puzzle', 'street sign', 'traffic light', 'book jacket', 'menu', 'plate', 'guacamole', 'consomme', 'hot pot', 'trifle', 'ice cream', 'ice lolly', 'French loaf', 'bagel', 'pretzel', 'cheeseburger', 'hotdog', 'mashed potato', 'head cabbage', 'broccoli', 'cauliflower', 'zucchini', 'spaghetti squash', 'acorn squash', 'butternut squash', 'cucumber', 'artichoke', 'bell pepper', 'cardoon', 'mushroom', 'Granny Smith', 'strawberry', 'orange', 'lemon', 'fig', 'pineapple', 'banana', 'jackfruit', 'custard apple', 'pomegranate', 'hay', 'carbonara', 'chocolate sauce', 'dough', 'meat loaf', 'pizza', 'potpie', 'burrito', 'red wine', 'espresso', 'cup', 'eggnog', 'alp', 'bubble', 'cliff', 'coral reef', 'geyser', 'lakeside', 'promontory', 'sandbar', 'seashore', 'valley', 'volcano', 'ballplayer', 'groom', 'scuba diver', 'rapeseed', 'daisy', \"yellow lady's slipper\", 'corn', 'acorn', 'hip', 'buckeye', 'coral fungus', 'agaric', 'gyromitra', 'stinkhorn', 'earthstar', 'hen-of-the-woods', 'bolete', 'ear', 'toilet tissue']\n"
          ],
          "name": "stdout"
        }
      ]
    },
    {
      "cell_type": "code",
      "metadata": {
        "id": "hvVgrYTVifvP"
      },
      "source": [
        "#@title Input Parameters\n",
        "target = \"a cat\" #@param {type:\"string\"}\n",
        "config = \"DeepMindBigGAN256_ga\" #@param [\"DeepMindBigGAN256_ga\",\"DeepMindBigGAN256_de\", \"StyleGAN2_ffhq_ga\",\"StyleGAN2_ffhq_de\", \"StyleGAN2_car_ga\", \"StyleGAN2_car_de\",\"StyleGAN2_church_ga\", \"StyleGAN2_church_de\",\"StyleGAN2_cat_ga\", \"StyleGAN2_cat_de\"]\n",
        "generations =   40#@param {type:\"number\"}\n",
        "callbacks_each =  10 #@param {type: \"number\"}\n",
        "population_size =  64#@param {type:\"number\"}\n",
        "number_of_loops =  1 #@param {type:\"number\"}"
      ],
      "execution_count": 3,
      "outputs": []
    },
    {
      "cell_type": "code",
      "metadata": {
        "id": "xwkOpUgn2AIj"
      },
      "source": [
        "#@title Download weights for given model\n",
        "!chmod +x ./download-weights.sh\n",
        "if \"ffhq\" in config:\n",
        "  ! ./download-weights.sh StyleGAN2-ffhq\n",
        "if \"church\" in config:\n",
        "  ! ./download-weights.sh StyleGAN2-church\n",
        "if \"car\" in config:\n",
        "  ! ./download-weights.sh StyleGAN2-car\n",
        "if \"cat\" in config:\n",
        "  ! ./download-weights.sh StyleGAN2-cat"
      ],
      "execution_count": 4,
      "outputs": []
    },
    {
      "cell_type": "code",
      "metadata": {
        "id": "TjbW8w0tkYvt"
      },
      "source": [
        "#@title Config \n",
        "config = argparse.Namespace(\n",
        "    config=config,\n",
        "    target=target,\n",
        "    device=\"cuda\",\n",
        "    generations=generations,\n",
        "    tmp_folder=\"./results\"\n",
        ")\n",
        "vars(config).update(get_config(config.config))\n",
        "config.pop_size = population_size\n",
        "# config.algorithm = algorithm_param\n",
        "config.generations = generations\n",
        "\n",
        "if not os.path.exists(config.tmp_folder): os.mkdir(config.tmp_folder)\n",
        "if not os.path.exists(f'{config.tmp_folder}/{config.target}'): os.mkdir(f'{config.tmp_folder}/{config.target}')\n"
      ],
      "execution_count": 5,
      "outputs": []
    },
    {
      "cell_type": "code",
      "metadata": {
        "id": "6ar7SdCbkvJC"
      },
      "source": [
        "#@title Support methods\n",
        "\n",
        "def callback(algorithm):\n",
        "    global config, iteration, loop, target\n",
        "\n",
        "    iteration += 1\n",
        "\n",
        "    sortedpop = sorted(algorithm.pop, key=lambda p: p.F)\n",
        "    X = np.stack([p.X for p in sortedpop])      \n",
        "    ls = config.latent(config)\n",
        "    ls.set_from_population(X)\n",
        "\n",
        "def generate_image(loop: int):\n",
        "  problem = GenerationProblem(config)\n",
        "\n",
        "  kwargs = get_algo(config)\n",
        "\n",
        "  algorithm = get_algorithm(\n",
        "      config.algorithm,\n",
        "      callback=callback,\n",
        "      **kwargs\n",
        "  )\n",
        "\n",
        "  res = minimize(\n",
        "      problem,\n",
        "      algorithm,\n",
        "      (\"n_gen\", config.generations),\n",
        "      save_history=False,\n",
        "      verbose=True,\n",
        "  )\n",
        "  \n",
        "\n",
        "  X = np.atleast_2d(res.X) # for config.n_obj==1\n",
        "  ls = config.latent(config)\n",
        "  ls.set_from_population(X)\n",
        "\n",
        "  with torch.no_grad():\n",
        "      generated = problem.generator.generate(ls)\n",
        "  print(f'Final image for \"{config.target}\" target - loop {loop}.')\n",
        "  problem.generator.save(generated, f\"./{config.tmp_folder}/{config.target}/loop_{loop}.jpg\")\n",
        "  display(Image(f\"./{config.tmp_folder}/{config.target}/loop_{loop}.jpg\"))"
      ],
      "execution_count": 8,
      "outputs": []
    },
    {
      "cell_type": "code",
      "metadata": {
        "colab": {
          "base_uri": "https://localhost:8080/",
          "height": 1000,
          "referenced_widgets": [
            "94e7668283fe4ffea401cf1a2995ab2b",
            "a03f28cb9e63429ba73e141a76984290",
            "45a437dd5b3344ef8cbef547c1ebe589",
            "5909cdac93704a16bc78c42509667f13",
            "cb0dedcd63af476cbd393f7993016f91",
            "babe3560fcc340af9795e307114525ff",
            "4757b934b73448bebccfaefe8faa56c3",
            "5202bab9bb4046a9ade41e783a234f0d"
          ]
        },
        "id": "VRIYW8CGk4js",
        "outputId": "d6e54732-a835-4e49-9d6f-e88e35263ede"
      },
      "source": [
        "#@title RUN (GENERATE IMAGES)\n",
        "\n",
        "\n",
        "for loop in tqdm_notebook(range(number_of_loops)):\n",
        "  iteration=0\n",
        "  generate_image(loop)"
      ],
      "execution_count": 9,
      "outputs": [
        {
          "output_type": "display_data",
          "data": {
            "application/vnd.jupyter.widget-view+json": {
              "model_id": "94e7668283fe4ffea401cf1a2995ab2b",
              "version_minor": 0,
              "version_major": 2
            },
            "text/plain": [
              "HBox(children=(FloatProgress(value=0.0, max=1.0), HTML(value='')))"
            ]
          },
          "metadata": {
            "tags": []
          }
        },
        {
          "output_type": "stream",
          "text": [
            "===========================================================================\n",
            "n_gen |  n_eval |   cv (min)   |   cv (avg)   |     fopt     |     favg    \n",
            "===========================================================================\n",
            "    1 |      64 |  0.00000E+00 |  0.00000E+00 |      -0.2627 |      -0.2228\n",
            "    2 |     128 |  0.00000E+00 |  0.00000E+00 |      -0.2627 |      -0.2365\n",
            "    3 |     192 |  0.00000E+00 |  0.00000E+00 |      -0.2866 |      -0.2415\n",
            "    4 |     256 |  0.00000E+00 |  0.00000E+00 |      -0.2866 |      -0.2444\n",
            "    5 |     320 |  0.00000E+00 |  0.00000E+00 |      -0.2866 |      -0.2487\n",
            "    6 |     384 |  0.00000E+00 |  0.00000E+00 |      -0.2866 |       -0.251\n",
            "    7 |     448 |  0.00000E+00 |  0.00000E+00 |      -0.2866 |      -0.2527\n",
            "    8 |     512 |  0.00000E+00 |  0.00000E+00 |      -0.2866 |      -0.2544\n",
            "    9 |     576 |  0.00000E+00 |  0.00000E+00 |      -0.2866 |       -0.257\n",
            "   10 |     640 |  0.00000E+00 |  0.00000E+00 |      -0.2866 |      -0.2585\n",
            "   11 |     704 |  0.00000E+00 |  0.00000E+00 |      -0.2866 |      -0.2595\n",
            "   12 |     768 |  0.00000E+00 |  0.00000E+00 |      -0.2866 |      -0.2607\n",
            "   13 |     832 |  0.00000E+00 |  0.00000E+00 |      -0.2866 |      -0.2615\n",
            "   14 |     896 |  0.00000E+00 |  0.00000E+00 |      -0.2866 |      -0.2627\n",
            "   15 |     960 |  0.00000E+00 |  0.00000E+00 |      -0.2866 |       -0.264\n",
            "   16 |    1024 |  0.00000E+00 |  0.00000E+00 |      -0.2866 |      -0.2659\n",
            "   17 |    1088 |  0.00000E+00 |  0.00000E+00 |      -0.2866 |       -0.267\n",
            "   18 |    1152 |  0.00000E+00 |  0.00000E+00 |      -0.2866 |      -0.2673\n",
            "   19 |    1216 |  0.00000E+00 |  0.00000E+00 |      -0.2866 |       -0.268\n",
            "   20 |    1280 |  0.00000E+00 |  0.00000E+00 |      -0.2866 |      -0.2695\n",
            "   21 |    1344 |  0.00000E+00 |  0.00000E+00 |       -0.289 |      -0.2708\n",
            "   22 |    1408 |  0.00000E+00 |  0.00000E+00 |       -0.289 |      -0.2717\n",
            "   23 |    1472 |  0.00000E+00 |  0.00000E+00 |       -0.289 |      -0.2722\n",
            "   24 |    1536 |  0.00000E+00 |  0.00000E+00 |       -0.289 |      -0.2732\n",
            "   25 |    1600 |  0.00000E+00 |  0.00000E+00 |       -0.289 |       -0.274\n",
            "   26 |    1664 |  0.00000E+00 |  0.00000E+00 |       -0.289 |      -0.2754\n",
            "   27 |    1728 |  0.00000E+00 |  0.00000E+00 |       -0.289 |      -0.2761\n",
            "   28 |    1792 |  0.00000E+00 |  0.00000E+00 |       -0.289 |      -0.2764\n",
            "   29 |    1856 |  0.00000E+00 |  0.00000E+00 |       -0.289 |       -0.277\n",
            "   30 |    1920 |  0.00000E+00 |  0.00000E+00 |      -0.2915 |      -0.2783\n",
            "   31 |    1984 |  0.00000E+00 |  0.00000E+00 |      -0.2915 |      -0.2793\n",
            "   32 |    2048 |  0.00000E+00 |  0.00000E+00 |      -0.2961 |        -0.28\n",
            "   33 |    2112 |  0.00000E+00 |  0.00000E+00 |      -0.2961 |      -0.2805\n",
            "   34 |    2176 |  0.00000E+00 |  0.00000E+00 |      -0.2961 |      -0.2817\n",
            "   35 |    2240 |  0.00000E+00 |  0.00000E+00 |      -0.2961 |      -0.2817\n",
            "   36 |    2304 |  0.00000E+00 |  0.00000E+00 |      -0.2961 |      -0.2825\n",
            "   37 |    2368 |  0.00000E+00 |  0.00000E+00 |      -0.2961 |      -0.2827\n",
            "   38 |    2432 |  0.00000E+00 |  0.00000E+00 |      -0.2961 |      -0.2832\n",
            "   39 |    2496 |  0.00000E+00 |  0.00000E+00 |      -0.2961 |      -0.2837\n",
            "   40 |    2560 |  0.00000E+00 |  0.00000E+00 |      -0.2961 |      -0.2844\n",
            "Final image for \"a cat\" target - loop 0.\n"
          ],
          "name": "stdout"
        },
        {
          "output_type": "display_data",
          "data": {
            "image/jpeg": "[encoded data removed]",
            "text/plain": [
              "<IPython.core.display.Image object>"
            ]
          },
          "metadata": {
            "tags": []
          }
        },
        {
          "output_type": "stream",
          "text": [
            "\n"
          ],
          "name": "stdout"
        }
      ]
    },
    {
      "cell_type": "markdown",
      "metadata": {
        "id": "xLfKongQ5qiy"
      },
      "source": [
        "### RESNET - CLASS EVALUATION"
      ]
    },
    {
      "cell_type": "code",
      "metadata": {
        "id": "1f0tW8C2qeeF"
      },
      "source": [
        "#@title RESNET initialization\n",
        "%%capture\n",
        "model = torch.hub.load('pytorch/vision:v0.9.0', 'resnet50', pretrained=True)\n",
        "model.eval()\n",
        "\n",
        "import PIL\n",
        "from torchvision import transforms"
      ],
      "execution_count": 10,
      "outputs": []
    },
    {
      "cell_type": "code",
      "metadata": {
        "id": "3R4U_40kOZKb",
        "colab": {
          "base_uri": "https://localhost:8080/",
          "height": 509,
          "referenced_widgets": [
            "1e45d199afe04f518967dead99554f81",
            "1bf186a419b44487bf975a845463d5f8",
            "4df5190d9b144b0d961a1a0196aef50e",
            "d9332ca1ed144d5391950fb3188da8c3",
            "46801826c26147f0b8f8a85444e89cc7",
            "66b035b5dcc64558ac8b21dc300844aa",
            "175afaf800f248cbb86ab75058d599e6",
            "24c89bebab314da8a1799f55b68a62f9"
          ]
        },
        "outputId": "9b4f334c-659d-40d4-aa5e-e1a7dba0c948"
      },
      "source": [
        "#@title RUN - EVALUATE CLASS\n",
        "class_to_check = target\n",
        "\n",
        "with open(\"/content/imagenet_classes.txt\", \"r\") as f:\n",
        "  categories = [s.strip() for s in f.readlines()]\n",
        "\n",
        "list_of_images = []\n",
        "for (dirpath, dirnames, filenames) in os.walk(f'/content/clip_gans/{config.tmp_folder[2:]}/{class_to_check}'):\n",
        "    list_of_images += [os.path.join(dirpath, file) for file in filenames]\n",
        "\n",
        "\n",
        "acc_count = 0\n",
        "for image_path in tqdm_notebook(list_of_images):\n",
        "  input_image = PIL.Image.open(image_path)\n",
        "  preprocess = transforms.Compose([\n",
        "    transforms.Resize(256),\n",
        "    transforms.CenterCrop(224),\n",
        "    transforms.ToTensor(),\n",
        "    transforms.Normalize(mean=[0.485, 0.456, 0.406], std=[0.229, 0.224, 0.225]),\n",
        "  ])\n",
        "  input_tensor = preprocess(input_image)\n",
        "  input_batch = input_tensor.unsqueeze(0)\n",
        "  input_batch = input_batch.to('cuda')\n",
        "  model.to('cuda')\n",
        "  with torch.no_grad():\n",
        "    output = model(input_batch)\n",
        "  probabilities = torch.nn.functional.softmax(output[0], dim=0)\n",
        "\n",
        "  top_prob, top_catid = torch.topk(probabilities, 1)\n",
        "  predicted_label = categories[top_catid[0]]\n",
        "\n",
        "  if predicted_label==class_to_check:\n",
        "    acc_count += 1\n",
        "  \n",
        "print(f'\\nAccuracy for {class_to_check.upper()} class: {round(acc_count/len(list_of_images)*100, 2)}%, ({acc_count}/{len(list_of_images)})')\n",
        "print(\"\\nImages' details:\")\n",
        "\n",
        "for image_path in list_of_images:\n",
        "  input_image = PIL.Image.open(image_path)\n",
        "  display(input_image)\n",
        "  preprocess = transforms.Compose([\n",
        "    transforms.Resize(256),\n",
        "    transforms.CenterCrop(224),\n",
        "    transforms.ToTensor(),\n",
        "    transforms.Normalize(mean=[0.485, 0.456, 0.406], std=[0.229, 0.224, 0.225]),\n",
        "  ])\n",
        "  input_tensor = preprocess(input_image)\n",
        "  input_batch = input_tensor.unsqueeze(0)\n",
        "  input_batch = input_batch.to('cuda')\n",
        "  model.to('cuda')\n",
        "  with torch.no_grad():\n",
        "    output = model(input_batch)\n",
        "  probabilities = torch.nn.functional.softmax(output[0], dim=0)\n",
        "\n",
        "  top_prob, top_catid = torch.topk(probabilities, 5)\n",
        "\n",
        "  print('TOP 5 predicted categories:')\n",
        "  top5_prob, top5_catid = torch.topk(probabilities, 5)\n",
        "  for i in range(top5_prob.size(0)):\n",
        "      print(categories[top5_catid[i]], f'{round(top5_prob[i].item()*100, 2)}%')\n",
        "  print(\"\")"
      ],
      "execution_count": 11,
      "outputs": [
        {
          "output_type": "display_data",
          "data": {
            "application/vnd.jupyter.widget-view+json": {
              "model_id": "1e45d199afe04f518967dead99554f81",
              "version_minor": 0,
              "version_major": 2
            },
            "text/plain": [
              "HBox(children=(FloatProgress(value=0.0, max=1.0), HTML(value='')))"
            ]
          },
          "metadata": {
            "tags": []
          }
        },
        {
          "output_type": "stream",
          "text": [
            "\n",
            "\n",
            "Accuracy for A CAT class: 0.0%, (0/1)\n",
            "\n",
            "Images' details:\n"
          ],
          "name": "stdout"
        },
        {
          "output_type": "display_data",
          "data": {
            "image/png": "[encoded data removed]",
            "text/plain": [
              "<PIL.JpegImagePlugin.JpegImageFile image mode=RGB size=256x256 at 0x7FD74B7F2C10>"
            ]
          },
          "metadata": {
            "tags": []
          }
        },
        {
          "output_type": "stream",
          "text": [
            "TOP 5 predicted categories:\n",
            "Scotch terrier 72.61%\n",
            "giant schnauzer 5.72%\n",
            "miniature schnauzer 2.82%\n",
            "standard schnauzer 2.2%\n",
            "cairn 1.53%\n",
            "\n"
          ],
          "name": "stdout"
        }
      ]
    },
    {
      "cell_type": "code",
      "metadata": {
        "id": "jcQJD6k32_uv"
      },
      "source": [
        ""
      ],
      "execution_count": 11,
      "outputs": []
    }
  ]
}