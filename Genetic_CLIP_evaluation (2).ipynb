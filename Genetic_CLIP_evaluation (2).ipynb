{
  "nbformat": 4,
  "nbformat_minor": 0,
  "metadata": {
    "accelerator": "GPU",
    "colab": {
      "name": "Genetic_CLIP_evaluation.ipynb",
      "provenance": [],
      "collapsed_sections": []
    },
    "kernelspec": {
      "display_name": "Python 3",
      "name": "python3"
    }
  },
  "cells": [
    {
      "cell_type": "code",
      "metadata": {
        "colab": {
          "base_uri": "https://localhost:8080/"
        },
        "id": "v_Wgv0HIv3Uk",
        "cellView": "form",
        "outputId": "c058a883-c634-4c37-b35a-00e477186cf8"
      },
      "source": [
        "#@title Initialization\n",
        "import subprocess\n",
        "import re\n",
        "\n",
        "nvcc = subprocess.check_output([\"nvcc\", \"--version\"]).decode(\"utf-8\")\n",
        "version = re.findall(\"release (\\d+\\.\\d+)\", nvcc)[0]\n",
        "\n",
        "pytorch_suffix = {\n",
        "    \"10.0\": \"+cu100\",\n",
        "    \"10.1\": \"+cu101\",\n",
        "    \"10.2\": \"\",\n",
        "}\n",
        "\n",
        "pytorch_version = \"1.7.1\" + (pytorch_suffix[version] if version in pytorch_suffix else \"+cu110\")\n",
        "torchvision_version = \"0.8.2\" + (pytorch_suffix[version] if version in pytorch_suffix else \"+cu110\")\n",
        "\n",
        "!git clone https://github.com/galatolofederico/clip-glass.git\n",
        "%cd clip-glass\n",
        "\n",
        "try:\n",
        "  import torch\n",
        "except:\n",
        "  !pip install torch=={pytorch_version} -f https://download.pytorch.org/whl/torch_stable.html\n",
        "\n",
        "try:\n",
        "  import torchvision\n",
        "except:\n",
        "  !pip install torchvision=={torchvision_version} -f https://download.pytorch.org/whl/torch_stable.html\n",
        "\n",
        "!pip install pytorch_pretrained_biggan pymoo kornia ftfy tensorboard"
      ],
      "execution_count": 1,
      "outputs": [
        {
          "output_type": "stream",
          "text": [
            "Cloning into 'clip-glass'...\n",
            "remote: Enumerating objects: 97, done.\u001b[K\n",
            "remote: Counting objects: 100% (97/97), done.\u001b[K\n",
            "remote: Compressing objects: 100% (76/76), done.\u001b[K\n",
            "remote: Total 97 (delta 28), reused 83 (delta 17), pack-reused 0\u001b[K\n",
            "Unpacking objects: 100% (97/97), done.\n",
            "/content/clip-glass\n",
            "Collecting pytorch_pretrained_biggan\n",
            "  Downloading https://files.pythonhosted.org/packages/21/05/cd567ad149d8e91080ee767dcaec25b84a325c590b7a415a6edd3a022818/pytorch_pretrained_biggan-0.1.1-py3-none-any.whl\n",
            "Collecting pymoo\n",
            "\u001b[?25l  Downloading https://files.pythonhosted.org/packages/4a/9b/47487d8fbc75ffe7dbf175189fd190c48596d63da2df3f9fb2cd29eb104b/pymoo-0.4.2.2.tar.gz (3.7MB)\n",
            "\u001b[K     |████████████████████████████████| 3.7MB 36.5MB/s \n",
            "\u001b[?25hCollecting kornia\n",
            "\u001b[?25l  Downloading https://files.pythonhosted.org/packages/0e/34/ae98eca1eee195a93e466100b451b0c962b22746e702f66f40099f798ed5/kornia-0.5.1-py2.py3-none-any.whl (275kB)\n",
            "\u001b[K     |████████████████████████████████| 276kB 47.9MB/s \n",
            "\u001b[?25hCollecting ftfy\n",
            "\u001b[?25l  Downloading https://files.pythonhosted.org/packages/ce/b5/5da463f9c7823e0e575e9908d004e2af4b36efa8d02d3d6dad57094fcb11/ftfy-6.0.1.tar.gz (63kB)\n",
            "\u001b[K     |████████████████████████████████| 71kB 9.7MB/s \n",
            "\u001b[?25hRequirement already satisfied: tensorboard in /usr/local/lib/python3.7/dist-packages (2.4.1)\n",
            "Requirement already satisfied: tqdm in /usr/local/lib/python3.7/dist-packages (from pytorch_pretrained_biggan) (4.41.1)\n",
            "Requirement already satisfied: requests in /usr/local/lib/python3.7/dist-packages (from pytorch_pretrained_biggan) (2.23.0)\n",
            "Collecting boto3\n",
            "\u001b[?25l  Downloading https://files.pythonhosted.org/packages/73/6d/47a187ea163c6e1791faae1fc8e45b584ba0076ca51ce93ff2824a1c8b98/boto3-1.17.70-py2.py3-none-any.whl (131kB)\n",
            "\u001b[K     |████████████████████████████████| 133kB 55.1MB/s \n",
            "\u001b[?25hRequirement already satisfied: torch>=0.4.1 in /usr/local/lib/python3.7/dist-packages (from pytorch_pretrained_biggan) (1.8.1+cu101)\n",
            "Requirement already satisfied: numpy in /usr/local/lib/python3.7/dist-packages (from pytorch_pretrained_biggan) (1.19.5)\n",
            "Requirement already satisfied: scipy>=1.1 in /usr/local/lib/python3.7/dist-packages (from pymoo) (1.4.1)\n",
            "Requirement already satisfied: matplotlib>=3 in /usr/local/lib/python3.7/dist-packages (from pymoo) (3.2.2)\n",
            "Requirement already satisfied: autograd>=1.3 in /usr/local/lib/python3.7/dist-packages (from pymoo) (1.3)\n",
            "Collecting cma==2.7\n",
            "\u001b[?25l  Downloading https://files.pythonhosted.org/packages/b9/3b/87a4efbcfeaf3172d81ef843f0b0c34c3ba60ec884aa6777f34f68b57418/cma-2.7.0-py2.py3-none-any.whl (239kB)\n",
            "\u001b[K     |████████████████████████████████| 245kB 50.3MB/s \n",
            "\u001b[?25hRequirement already satisfied: wcwidth in /usr/local/lib/python3.7/dist-packages (from ftfy) (0.2.5)\n",
            "Requirement already satisfied: markdown>=2.6.8 in /usr/local/lib/python3.7/dist-packages (from tensorboard) (3.3.4)\n",
            "Requirement already satisfied: google-auth<2,>=1.6.3 in /usr/local/lib/python3.7/dist-packages (from tensorboard) (1.28.1)\n",
            "Requirement already satisfied: setuptools>=41.0.0 in /usr/local/lib/python3.7/dist-packages (from tensorboard) (56.1.0)\n",
            "Requirement already satisfied: protobuf>=3.6.0 in /usr/local/lib/python3.7/dist-packages (from tensorboard) (3.12.4)\n",
            "Requirement already satisfied: six>=1.10.0 in /usr/local/lib/python3.7/dist-packages (from tensorboard) (1.15.0)\n",
            "Requirement already satisfied: absl-py>=0.4 in /usr/local/lib/python3.7/dist-packages (from tensorboard) (0.12.0)\n",
            "Requirement already satisfied: grpcio>=1.24.3 in /usr/local/lib/python3.7/dist-packages (from tensorboard) (1.32.0)\n",
            "Requirement already satisfied: werkzeug>=0.11.15 in /usr/local/lib/python3.7/dist-packages (from tensorboard) (1.0.1)\n",
            "Requirement already satisfied: wheel>=0.26; python_version >= \"3\" in /usr/local/lib/python3.7/dist-packages (from tensorboard) (0.36.2)\n",
            "Requirement already satisfied: tensorboard-plugin-wit>=1.6.0 in /usr/local/lib/python3.7/dist-packages (from tensorboard) (1.8.0)\n",
            "Requirement already satisfied: google-auth-oauthlib<0.5,>=0.4.1 in /usr/local/lib/python3.7/dist-packages (from tensorboard) (0.4.4)\n",
            "Requirement already satisfied: certifi>=2017.4.17 in /usr/local/lib/python3.7/dist-packages (from requests->pytorch_pretrained_biggan) (2020.12.5)\n",
            "Requirement already satisfied: urllib3!=1.25.0,!=1.25.1,<1.26,>=1.21.1 in /usr/local/lib/python3.7/dist-packages (from requests->pytorch_pretrained_biggan) (1.24.3)\n",
            "Requirement already satisfied: idna<3,>=2.5 in /usr/local/lib/python3.7/dist-packages (from requests->pytorch_pretrained_biggan) (2.10)\n",
            "Requirement already satisfied: chardet<4,>=3.0.2 in /usr/local/lib/python3.7/dist-packages (from requests->pytorch_pretrained_biggan) (3.0.4)\n",
            "Collecting s3transfer<0.5.0,>=0.4.0\n",
            "\u001b[?25l  Downloading https://files.pythonhosted.org/packages/63/d0/693477c688348654ddc21dcdce0817653a294aa43f41771084c25e7ff9c7/s3transfer-0.4.2-py2.py3-none-any.whl (79kB)\n",
            "\u001b[K     |████████████████████████████████| 81kB 11.7MB/s \n",
            "\u001b[?25hCollecting botocore<1.21.0,>=1.20.70\n",
            "\u001b[?25l  Downloading https://files.pythonhosted.org/packages/54/69/3e71ecaeaeecd78c5e33161690e1c39856258108e9f42a153af56db5a88c/botocore-1.20.70-py2.py3-none-any.whl (7.5MB)\n",
            "\u001b[K     |████████████████████████████████| 7.5MB 50.2MB/s \n",
            "\u001b[?25hCollecting jmespath<1.0.0,>=0.7.1\n",
            "  Downloading https://files.pythonhosted.org/packages/07/cb/5f001272b6faeb23c1c9e0acc04d48eaaf5c862c17709d20e3469c6e0139/jmespath-0.10.0-py2.py3-none-any.whl\n",
            "Requirement already satisfied: typing-extensions in /usr/local/lib/python3.7/dist-packages (from torch>=0.4.1->pytorch_pretrained_biggan) (3.7.4.3)\n",
            "Requirement already satisfied: pyparsing!=2.0.4,!=2.1.2,!=2.1.6,>=2.0.1 in /usr/local/lib/python3.7/dist-packages (from matplotlib>=3->pymoo) (2.4.7)\n",
            "Requirement already satisfied: cycler>=0.10 in /usr/local/lib/python3.7/dist-packages (from matplotlib>=3->pymoo) (0.10.0)\n",
            "Requirement already satisfied: kiwisolver>=1.0.1 in /usr/local/lib/python3.7/dist-packages (from matplotlib>=3->pymoo) (1.3.1)\n",
            "Requirement already satisfied: python-dateutil>=2.1 in /usr/local/lib/python3.7/dist-packages (from matplotlib>=3->pymoo) (2.8.1)\n",
            "Requirement already satisfied: future>=0.15.2 in /usr/local/lib/python3.7/dist-packages (from autograd>=1.3->pymoo) (0.16.0)\n",
            "Requirement already satisfied: importlib-metadata; python_version < \"3.8\" in /usr/local/lib/python3.7/dist-packages (from markdown>=2.6.8->tensorboard) (3.10.1)\n",
            "Requirement already satisfied: cachetools<5.0,>=2.0.0 in /usr/local/lib/python3.7/dist-packages (from google-auth<2,>=1.6.3->tensorboard) (4.2.1)\n",
            "Requirement already satisfied: rsa<5,>=3.1.4; python_version >= \"3.6\" in /usr/local/lib/python3.7/dist-packages (from google-auth<2,>=1.6.3->tensorboard) (4.7.2)\n",
            "Requirement already satisfied: pyasn1-modules>=0.2.1 in /usr/local/lib/python3.7/dist-packages (from google-auth<2,>=1.6.3->tensorboard) (0.2.8)\n",
            "Requirement already satisfied: requests-oauthlib>=0.7.0 in /usr/local/lib/python3.7/dist-packages (from google-auth-oauthlib<0.5,>=0.4.1->tensorboard) (1.3.0)\n",
            "Requirement already satisfied: zipp>=0.5 in /usr/local/lib/python3.7/dist-packages (from importlib-metadata; python_version < \"3.8\"->markdown>=2.6.8->tensorboard) (3.4.1)\n",
            "Requirement already satisfied: pyasn1>=0.1.3 in /usr/local/lib/python3.7/dist-packages (from rsa<5,>=3.1.4; python_version >= \"3.6\"->google-auth<2,>=1.6.3->tensorboard) (0.4.8)\n",
            "Requirement already satisfied: oauthlib>=3.0.0 in /usr/local/lib/python3.7/dist-packages (from requests-oauthlib>=0.7.0->google-auth-oauthlib<0.5,>=0.4.1->tensorboard) (3.1.0)\n",
            "Building wheels for collected packages: pymoo, ftfy\n",
            "  Building wheel for pymoo (setup.py) ... \u001b[?25l\u001b[?25hdone\n",
            "  Created wheel for pymoo: filename=pymoo-0.4.2.2-cp37-cp37m-linux_x86_64.whl size=4939854 sha256=29996cb738709771b371f01dc795977da34d11096b5272532e5a1be6a0aa3426\n",
            "  Stored in directory: /root/.cache/pip/wheels/95/13/7a/b9489d4dc66ef0b7d03f6cc3be7535b9b2f18d83893437ad7c\n",
            "  Building wheel for ftfy (setup.py) ... \u001b[?25l\u001b[?25hdone\n",
            "  Created wheel for ftfy: filename=ftfy-6.0.1-cp37-none-any.whl size=41573 sha256=cea006a9dee8edec93d823652c8a684ee84da2ce67e7f5dcad3de545e01b263b\n",
            "  Stored in directory: /root/.cache/pip/wheels/ae/73/c7/9056e14b04919e5c262fe80b54133b1a88d73683d05d7ac65c\n",
            "Successfully built pymoo ftfy\n",
            "\u001b[31mERROR: botocore 1.20.70 has requirement urllib3<1.27,>=1.25.4, but you'll have urllib3 1.24.3 which is incompatible.\u001b[0m\n",
            "Installing collected packages: jmespath, botocore, s3transfer, boto3, pytorch-pretrained-biggan, cma, pymoo, kornia, ftfy\n",
            "Successfully installed boto3-1.17.70 botocore-1.20.70 cma-2.7.0 ftfy-6.0.1 jmespath-0.10.0 kornia-0.5.1 pymoo-0.4.2.2 pytorch-pretrained-biggan-0.1.1 s3transfer-0.4.2\n"
          ],
          "name": "stdout"
        }
      ]
    },
    {
      "cell_type": "code",
      "metadata": {
        "id": "xDSPz1B7KPcQ"
      },
      "source": [
        "import warnings\n",
        "warnings.filterwarnings('ignore')"
      ],
      "execution_count": 2,
      "outputs": []
    },
    {
      "cell_type": "code",
      "metadata": {
        "id": "uz6W7JXrCRO-"
      },
      "source": [
        "import argparse\n",
        "import os\n",
        "import torch\n",
        "import numpy as np\n",
        "import pickle\n",
        "from pymoo.optimize import minimize\n",
        "from pymoo.algorithms.so_genetic_algorithm import GA\n",
        "from pymoo.factory import get_algorithm, get_decision_making, get_decomposition\n",
        "from pymoo.visualization.scatter import Scatter\n",
        "import torchvision\n",
        "from IPython.display import Image, display\n",
        "import urllib.request\n",
        "\n",
        "\n",
        "from config import get_config\n",
        "from problem import GenerationProblem\n",
        "from operators import get_operators"
      ],
      "execution_count": 4,
      "outputs": []
    },
    {
      "cell_type": "code",
      "metadata": {
        "colab": {
          "base_uri": "https://localhost:8080/"
        },
        "id": "t2h4NIbwCT5X",
        "outputId": "99b8e587-7552-40f4-cd87-db731d0e59dc"
      },
      "source": [
        "%cd /content/clip-glass\n",
        "\n",
        "target = \"airplane\" #@param {type:\"string\"}\n",
        "config = \"DeepMindBigGAN256\" #@param [\"DeepMindBigGAN256\", \"DeepMindBigGAN512\", \"StyleGAN2_ffhq_d\", \"StyleGAN2_car_d\", \"StyleGAN2_church_d\", \"StyleGAN2_ffhq_nod\", \"StyleGAN2_car_nod\", \"StyleGAN2_church_nod\", \"GPT2\"]\n",
        "save_each = 10 #@param {type:\"number\"}\n",
        "generations = 100 #@param {type:\"number\"}\n",
        "\n",
        "# if config == \"GPT2\":\n",
        "#   try:\n",
        "#     urllib.request.urlretrieve(target, \"./target\")\n",
        "#     target = \"./target\"\n",
        "#   except Exception as e:\n",
        "#     print(e)\n",
        "#     raise Exception(\"Target must be a vaild URL when using GPT2\")\n",
        "    \n",
        "\n",
        "# if \"ffhq\" in config:\n",
        "#   ! ./download-weights.sh StyleGAN2-ffhq\n",
        "# if \"church\" in config:\n",
        "#   ! ./download-weights.sh StyleGAN2-church\n",
        "# if \"car\" in config:\n",
        "#   ! ./download-weights.sh StyleGAN2-car\n",
        "# if config == \"GPT2\":\n",
        "#   ! ./download-weights.sh GPT2\n",
        "\n",
        "config = argparse.Namespace(\n",
        "    config=config,\n",
        "    target=target,\n",
        "    device=\"cuda\",\n",
        "    generations=generations,\n",
        "    save_each=save_each,\n",
        "    tmp_folder=\"./tmp\"\n",
        ")\n",
        "\n",
        "vars(config).update(get_config(config.config))"
      ],
      "execution_count": 5,
      "outputs": [
        {
          "output_type": "stream",
          "text": [
            "/content/clip-glass\n"
          ],
          "name": "stdout"
        }
      ]
    },
    {
      "cell_type": "code",
      "metadata": {
        "id": "VwneHANUF_Wc"
      },
      "source": [
        "def save_callback(algorithm):\n",
        "    global iteration\n",
        "    global config\n",
        "\n",
        "    iteration += 1\n",
        "    if iteration % config.save_each == 0 or iteration == config.generations:\n",
        "        if config.problem_args[\"n_obj\"] == 1:\n",
        "            sortedpop = sorted(algorithm.pop, key=lambda p: p.F)\n",
        "            X = np.stack([p.X for p in sortedpop])  \n",
        "        else:\n",
        "            X = algorithm.pop.get(\"X\")\n",
        "        \n",
        "        ls = config.latent(config)\n",
        "        ls.set_from_population(X)\n",
        "\n",
        "        with torch.no_grad():\n",
        "            generated = algorithm.problem.generator.generate(ls, minibatch=config.batch_size)\n",
        "            name = \"genetic-it-%d.jpg\" % (iteration) if iteration < config.generations else \"genetic-it-final.jpg\"\n",
        "\n",
        "            #if config.task == \"txt2img\":\n",
        "              \n",
        "                #algorithm.problem.generator.save(generated, os.path.join(config.tmp_folder, name))\n",
        "                #display(Image(os.path.join(config.tmp_folder, name)))"
      ],
      "execution_count": 6,
      "outputs": []
    },
    {
      "cell_type": "code",
      "metadata": {
        "id": "zvZFRZtcv8Mp"
      },
      "source": [
        "def generate_image(i: int):\n",
        "  problem = GenerationProblem(config)\n",
        "  operators = get_operators(config)\n",
        "\n",
        "  if not os.path.exists(config.tmp_folder): os.mkdir(config.tmp_folder)\n",
        "\n",
        "  algorithm = get_algorithm(\n",
        "      config.algorithm,\n",
        "      pop_size=config.pop_size,\n",
        "      sampling=operators[\"sampling\"],\n",
        "      crossover=operators[\"crossover\"],\n",
        "      mutation=operators[\"mutation\"],\n",
        "      eliminate_duplicates=True,\n",
        "      callback=save_callback,\n",
        "      **(config.algorithm_args[config.algorithm] if \"algorithm_args\" in config and config.algorithm in config.algorithm_args else dict())\n",
        "  )\n",
        "\n",
        "  res = minimize(\n",
        "      problem,\n",
        "      algorithm,\n",
        "      (\"n_gen\", config.generations),\n",
        "      save_history=False,\n",
        "      verbose=False,\n",
        "  )\n",
        "\n",
        "\n",
        "  pickle.dump(dict(\n",
        "      X = res.X,\n",
        "      F = res.F,\n",
        "      G = res.G,\n",
        "      CV = res.CV,\n",
        "  ), open(os.path.join(config.tmp_folder, \"genetic_result\"), \"wb\"))\n",
        "\n",
        "  # cosine sim\n",
        "  print(f'Cos-Sim: {-res.F[0]}')\n",
        "\n",
        "  if config.problem_args[\"n_obj\"] == 1:\n",
        "      X = np.atleast_2d(res.X)\n",
        "  else:\n",
        "      try:\n",
        "          result = get_decision_making(\"pseudo-weights\", [0, 1]).do(res.F)\n",
        "      except:\n",
        "          print(\"Warning: cant use pseudo-weights\")\n",
        "          result = get_decomposition(\"asf\").do(res.F, [0, 1]).argmin()\n",
        "      X = res.X[result]\n",
        "      X = np.atleast_2d(X)\n",
        "\n",
        "  ls = config.latent(config)\n",
        "  ls.set_from_population(X)\n",
        "\n",
        "  with torch.no_grad():\n",
        "      generated = problem.generator.generate(ls)\n",
        "\n",
        "  if config.task == \"txt2img\":\n",
        "      problem.generator.save(generated, os.path.join(config.tmp_folder, f\"{i}_{target}.jpg\"))\n",
        "      display(Image(os.path.join(config.tmp_folder, f\"{i}_{target}.jpg\")))\n",
        "\n",
        "\n",
        "\n",
        "\n"
      ],
      "execution_count": 10,
      "outputs": []
    },
    {
      "cell_type": "code",
      "metadata": {
        "colab": {
          "base_uri": "https://localhost:8080/",
          "height": 1000
        },
        "id": "-PIxulVqH3Os",
        "outputId": "fced36e4-dfbf-4ac8-f9f3-1bb2212b8c45"
      },
      "source": [
        "from IPython.display import Image, display\n",
        "n_img_generated = 3\n",
        "\n",
        "print('GENERATED IMAGES \\n')\n",
        "print(f'TEXT: {target} \\n')\n",
        "for i in range(n_img_generated):\n",
        "  print(i)\n",
        "  iteration=0\n",
        "  generate_image(i)\n",
        "  print('\\n')"
      ],
      "execution_count": 11,
      "outputs": [
        {
          "output_type": "stream",
          "text": [
            "GENERATED IMAGES \n",
            "\n",
            "TEXT: airplane \n",
            "\n",
            "0\n",
            "Cos-Sim: 0.29931640625\n"
          ],
          "name": "stdout"
        },
        {
          "output_type": "display_data",
          "data": {
            "image/jpeg": "[encoded data removed]",
            "text/plain": [
              "<IPython.core.display.Image object>"
            ]
          },
          "metadata": {
            "tags": []
          }
        },
        {
          "output_type": "stream",
          "text": [
            "\n",
            "\n",
            "1\n",
            "Cos-Sim: 0.30419921875\n"
          ],
          "name": "stdout"
        },
        {
          "output_type": "display_data",
          "data": {
            "image/jpeg": "[encoded data removed]",
            "text/plain": [
              "<IPython.core.display.Image object>"
            ]
          },
          "metadata": {
            "tags": []
          }
        },
        {
          "output_type": "stream",
          "text": [
            "\n",
            "\n",
            "2\n",
            "Cos-Sim: 0.2978515625\n"
          ],
          "name": "stdout"
        },
        {
          "output_type": "display_data",
          "data": {
            "image/jpeg": "[encoded data removed]",
            "text/plain": [
              "<IPython.core.display.Image object>"
            ]
          },
          "metadata": {
            "tags": []
          }
        },
        {
          "output_type": "stream",
          "text": [
            "\n",
            "\n"
          ],
          "name": "stdout"
        }
      ]
    },
    {
      "cell_type": "markdown",
      "metadata": {
        "id": "s18cLxK5Ozbz"
      },
      "source": [
        "### CLASSIFIER EVALUATION"
      ]
    },
    {
      "cell_type": "code",
      "metadata": {
        "colab": {
          "base_uri": "https://localhost:8080/"
        },
        "id": "aOcoqpb7Ms8l",
        "outputId": "72b7af7e-f6e4-45fc-daa7-6012c5ee29ec"
      },
      "source": [
        "%cd ..\n",
        "!git clone https://github.com/vrakesh/CIFAR-10-Classifier\n",
        "%cd CIFAR-10-Classifier/"
      ],
      "execution_count": 12,
      "outputs": [
        {
          "output_type": "stream",
          "text": [
            "/content\n",
            "Cloning into 'CIFAR-10-Classifier'...\n",
            "remote: Enumerating objects: 10, done.\u001b[K\n",
            "remote: Total 10 (delta 0), reused 0 (delta 0), pack-reused 10\u001b[K\n",
            "Unpacking objects: 100% (10/10), done.\n",
            "/content/CIFAR-10-Classifier\n"
          ],
          "name": "stdout"
        }
      ]
    },
    {
      "cell_type": "code",
      "metadata": {
        "colab": {
          "base_uri": "https://localhost:8080/",
          "height": 226
        },
        "id": "CLLckJRJN8ZK",
        "outputId": "f85070eb-7833-4e18-8669-8b79fda5b424"
      },
      "source": [
        "from cifar_classifier import cifar_classifier\n",
        "from PIL import Image\n",
        "cc = cifar_classifier()\n",
        "model = cc.get_model('cnn')\n",
        "model.load_weights('cifar10.model.cnn.hdf5')\n",
        "cifar10_labels = ['airplane', 'automobile', 'bird', 'cat', 'deer', 'dog', 'frog', 'horse', 'ship', 'truck']\n",
        "\n",
        "\n",
        "acc_count = 0\n",
        "for i in range(n_img_generated):\n",
        "  im = (Image.open(f'../clip-glass/tmp/{i}_{target}.jpg'))\n",
        "  im = im.resize((32, 32))\n",
        "  display(im)\n",
        "  im = np.expand_dims(im, 0)\n",
        "  y_hat = model.predict(im)\n",
        "  predicted_label = cifar10_labels[np.argmax(y_hat[0])]\n",
        "  print(predicted_label)\n",
        "  if predicted_label==target:\n",
        "    acc_count += 1\n",
        "  \n",
        "print(f'\\nACCURACY: {acc_count/n_img_generated*100}%')\n",
        "\n",
        "  "
      ],
      "execution_count": 13,
      "outputs": [
        {
          "output_type": "stream",
          "text": [
            "Downloading data from https://www.cs.toronto.edu/~kriz/cifar-10-python.tar.gz\n",
            "170500096/170498071 [==============================] - 3s 0us/step\n"
          ],
          "name": "stdout"
        },
        {
          "output_type": "display_data",
          "data": {
            "image/png": "[encoded data removed]",
            "text/plain": [
              "<PIL.Image.Image image mode=RGB size=32x32 at 0x7F2FDA469710>"
            ]
          },
          "metadata": {
            "tags": []
          }
        },
        {
          "output_type": "stream",
          "text": [
            "airplane\n"
          ],
          "name": "stdout"
        },
        {
          "output_type": "display_data",
          "data": {
            "image/png": "[encoded data removed]",
            "text/plain": [
              "<PIL.Image.Image image mode=RGB size=32x32 at 0x7F2F9E713C10>"
            ]
          },
          "metadata": {
            "tags": []
          }
        },
        {
          "output_type": "stream",
          "text": [
            "airplane\n"
          ],
          "name": "stdout"
        },
        {
          "output_type": "display_data",
          "data": {
            "image/png": "[encoded data removed]",
            "text/plain": [
              "<PIL.Image.Image image mode=RGB size=32x32 at 0x7F2F9F119490>"
            ]
          },
          "metadata": {
            "tags": []
          }
        },
        {
          "output_type": "stream",
          "text": [
            "airplane\n",
            "\n",
            "ACCURACY: 100.0%\n"
          ],
          "name": "stdout"
        }
      ]
    }
  ]
}